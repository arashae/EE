{
 "cells": [
  {
   "cell_type": "markdown",
   "id": "7c1c3dda-1565-47ee-a309-6ce84f89064c",
   "metadata": {},
   "source": [
    "**Import Pandas and Numpy**"
   ]
  },
  {
   "cell_type": "code",
   "execution_count": 67,
   "id": "e04dfead-0ec1-4bdf-86c4-f580d6135d4e",
   "metadata": {},
   "outputs": [],
   "source": [
    "import pandas as pd\n",
    "import numpy as np"
   ]
  },
  {
   "cell_type": "markdown",
   "id": "c0701ae7-79ec-49be-a637-44031af5f4f7",
   "metadata": {},
   "source": [
    "**Read Data**"
   ]
  },
  {
   "cell_type": "code",
   "execution_count": 68,
   "id": "83bf9837-ea57-4e1b-858c-fac090f0f399",
   "metadata": {},
   "outputs": [
    {
     "data": {
      "text/html": [
       "<div>\n",
       "<style scoped>\n",
       "    .dataframe tbody tr th:only-of-type {\n",
       "        vertical-align: middle;\n",
       "    }\n",
       "\n",
       "    .dataframe tbody tr th {\n",
       "        vertical-align: top;\n",
       "    }\n",
       "\n",
       "    .dataframe thead th {\n",
       "        text-align: right;\n",
       "    }\n",
       "</style>\n",
       "<table border=\"1\" class=\"dataframe\">\n",
       "  <thead>\n",
       "    <tr style=\"text-align: right;\">\n",
       "      <th></th>\n",
       "      <th>Years</th>\n",
       "      <th>Salary</th>\n",
       "      <th>material 1</th>\n",
       "      <th>material 2</th>\n",
       "      <th>demand</th>\n",
       "      <th>price</th>\n",
       "    </tr>\n",
       "  </thead>\n",
       "  <tbody>\n",
       "    <tr>\n",
       "      <th>0</th>\n",
       "      <td>1990</td>\n",
       "      <td>39343.0</td>\n",
       "      <td>200.000000</td>\n",
       "      <td>89.600000</td>\n",
       "      <td>103</td>\n",
       "      <td>1200.0</td>\n",
       "    </tr>\n",
       "    <tr>\n",
       "      <th>1</th>\n",
       "      <td>1991</td>\n",
       "      <td>46205.0</td>\n",
       "      <td>212.000000</td>\n",
       "      <td>92.662500</td>\n",
       "      <td>104</td>\n",
       "      <td>1375.0</td>\n",
       "    </tr>\n",
       "    <tr>\n",
       "      <th>2</th>\n",
       "      <td>1992</td>\n",
       "      <td>37731.0</td>\n",
       "      <td>224.720000</td>\n",
       "      <td>95.807250</td>\n",
       "      <td>101</td>\n",
       "      <td>1451.0</td>\n",
       "    </tr>\n",
       "    <tr>\n",
       "      <th>3</th>\n",
       "      <td>1993</td>\n",
       "      <td>43525.0</td>\n",
       "      <td>238.203200</td>\n",
       "      <td>99.034819</td>\n",
       "      <td>99</td>\n",
       "      <td>1593.0</td>\n",
       "    </tr>\n",
       "    <tr>\n",
       "      <th>4</th>\n",
       "      <td>1994</td>\n",
       "      <td>39891.0</td>\n",
       "      <td>252.495392</td>\n",
       "      <td>102.345626</td>\n",
       "      <td>95</td>\n",
       "      <td>1718.5</td>\n",
       "    </tr>\n",
       "    <tr>\n",
       "      <th>5</th>\n",
       "      <td>1995</td>\n",
       "      <td>56642.0</td>\n",
       "      <td>267.645116</td>\n",
       "      <td>105.739927</td>\n",
       "      <td>96</td>\n",
       "      <td>1844.0</td>\n",
       "    </tr>\n",
       "    <tr>\n",
       "      <th>6</th>\n",
       "      <td>1996</td>\n",
       "      <td>60150.0</td>\n",
       "      <td>283.703822</td>\n",
       "      <td>109.217795</td>\n",
       "      <td>95</td>\n",
       "      <td>1969.5</td>\n",
       "    </tr>\n",
       "    <tr>\n",
       "      <th>7</th>\n",
       "      <td>1997</td>\n",
       "      <td>54445.0</td>\n",
       "      <td>300.726052</td>\n",
       "      <td>112.779099</td>\n",
       "      <td>92</td>\n",
       "      <td>2095.0</td>\n",
       "    </tr>\n",
       "    <tr>\n",
       "      <th>8</th>\n",
       "      <td>1998</td>\n",
       "      <td>64445.0</td>\n",
       "      <td>318.769615</td>\n",
       "      <td>116.423489</td>\n",
       "      <td>92</td>\n",
       "      <td>2220.5</td>\n",
       "    </tr>\n",
       "    <tr>\n",
       "      <th>9</th>\n",
       "      <td>1999</td>\n",
       "      <td>57189.0</td>\n",
       "      <td>337.895792</td>\n",
       "      <td>120.150370</td>\n",
       "      <td>87</td>\n",
       "      <td>2346.0</td>\n",
       "    </tr>\n",
       "    <tr>\n",
       "      <th>10</th>\n",
       "      <td>2000</td>\n",
       "      <td>63218.0</td>\n",
       "      <td>358.169539</td>\n",
       "      <td>123.958881</td>\n",
       "      <td>84</td>\n",
       "      <td>2471.5</td>\n",
       "    </tr>\n",
       "    <tr>\n",
       "      <th>11</th>\n",
       "      <td>2001</td>\n",
       "      <td>55794.0</td>\n",
       "      <td>379.659712</td>\n",
       "      <td>127.847867</td>\n",
       "      <td>86</td>\n",
       "      <td>2597.0</td>\n",
       "    </tr>\n",
       "    <tr>\n",
       "      <th>12</th>\n",
       "      <td>2002</td>\n",
       "      <td>56957.0</td>\n",
       "      <td>402.439294</td>\n",
       "      <td>131.815854</td>\n",
       "      <td>87</td>\n",
       "      <td>2722.5</td>\n",
       "    </tr>\n",
       "    <tr>\n",
       "      <th>13</th>\n",
       "      <td>2003</td>\n",
       "      <td>NaN</td>\n",
       "      <td>426.585652</td>\n",
       "      <td>135.861021</td>\n",
       "      <td>78</td>\n",
       "      <td>2848.0</td>\n",
       "    </tr>\n",
       "    <tr>\n",
       "      <th>14</th>\n",
       "      <td>2004</td>\n",
       "      <td>57081.0</td>\n",
       "      <td>452.180791</td>\n",
       "      <td>139.981164</td>\n",
       "      <td>79</td>\n",
       "      <td>2973.5</td>\n",
       "    </tr>\n",
       "    <tr>\n",
       "      <th>15</th>\n",
       "      <td>2005</td>\n",
       "      <td>61111.0</td>\n",
       "      <td>479.311639</td>\n",
       "      <td>144.173669</td>\n",
       "      <td>78</td>\n",
       "      <td>3099.0</td>\n",
       "    </tr>\n",
       "    <tr>\n",
       "      <th>16</th>\n",
       "      <td>2006</td>\n",
       "      <td>67938.0</td>\n",
       "      <td>508.070337</td>\n",
       "      <td>148.435472</td>\n",
       "      <td>78</td>\n",
       "      <td>3224.5</td>\n",
       "    </tr>\n",
       "    <tr>\n",
       "      <th>17</th>\n",
       "      <td>2007</td>\n",
       "      <td>66029.0</td>\n",
       "      <td>538.554557</td>\n",
       "      <td>152.763021</td>\n",
       "      <td>71</td>\n",
       "      <td>3350.0</td>\n",
       "    </tr>\n",
       "    <tr>\n",
       "      <th>18</th>\n",
       "      <td>2008</td>\n",
       "      <td>83088.0</td>\n",
       "      <td>570.867831</td>\n",
       "      <td>157.152236</td>\n",
       "      <td>73</td>\n",
       "      <td>3475.5</td>\n",
       "    </tr>\n",
       "    <tr>\n",
       "      <th>19</th>\n",
       "      <td>2009</td>\n",
       "      <td>81363.0</td>\n",
       "      <td>605.119900</td>\n",
       "      <td>161.598465</td>\n",
       "      <td>72</td>\n",
       "      <td>3601.0</td>\n",
       "    </tr>\n",
       "    <tr>\n",
       "      <th>20</th>\n",
       "      <td>2010</td>\n",
       "      <td>NaN</td>\n",
       "      <td>641.427094</td>\n",
       "      <td>166.096436</td>\n",
       "      <td>71</td>\n",
       "      <td>3726.5</td>\n",
       "    </tr>\n",
       "    <tr>\n",
       "      <th>21</th>\n",
       "      <td>2011</td>\n",
       "      <td>93940.0</td>\n",
       "      <td>679.912720</td>\n",
       "      <td>170.640209</td>\n",
       "      <td>67</td>\n",
       "      <td>3852.0</td>\n",
       "    </tr>\n",
       "    <tr>\n",
       "      <th>22</th>\n",
       "      <td>2012</td>\n",
       "      <td>91738.0</td>\n",
       "      <td>720.707483</td>\n",
       "      <td>175.223117</td>\n",
       "      <td>70</td>\n",
       "      <td>3977.5</td>\n",
       "    </tr>\n",
       "    <tr>\n",
       "      <th>23</th>\n",
       "      <td>2013</td>\n",
       "      <td>NaN</td>\n",
       "      <td>763.949932</td>\n",
       "      <td>179.837716</td>\n",
       "      <td>69</td>\n",
       "      <td>4103.0</td>\n",
       "    </tr>\n",
       "    <tr>\n",
       "      <th>24</th>\n",
       "      <td>2014</td>\n",
       "      <td>98273.0</td>\n",
       "      <td>809.786928</td>\n",
       "      <td>184.475717</td>\n",
       "      <td>68</td>\n",
       "      <td>4228.5</td>\n",
       "    </tr>\n",
       "    <tr>\n",
       "      <th>25</th>\n",
       "      <td>2015</td>\n",
       "      <td>101302.0</td>\n",
       "      <td>858.374144</td>\n",
       "      <td>189.127923</td>\n",
       "      <td>63</td>\n",
       "      <td>4354.0</td>\n",
       "    </tr>\n",
       "    <tr>\n",
       "      <th>26</th>\n",
       "      <td>2016</td>\n",
       "      <td>113812.0</td>\n",
       "      <td>909.876593</td>\n",
       "      <td>193.784161</td>\n",
       "      <td>64</td>\n",
       "      <td>4479.5</td>\n",
       "    </tr>\n",
       "    <tr>\n",
       "      <th>27</th>\n",
       "      <td>2017</td>\n",
       "      <td>109431.0</td>\n",
       "      <td>964.469188</td>\n",
       "      <td>198.433204</td>\n",
       "      <td>62</td>\n",
       "      <td>4605.0</td>\n",
       "    </tr>\n",
       "    <tr>\n",
       "      <th>28</th>\n",
       "      <td>2018</td>\n",
       "      <td>105582.0</td>\n",
       "      <td>1022.337339</td>\n",
       "      <td>203.062689</td>\n",
       "      <td>61</td>\n",
       "      <td>4730.5</td>\n",
       "    </tr>\n",
       "    <tr>\n",
       "      <th>29</th>\n",
       "      <td>2019</td>\n",
       "      <td>116969.0</td>\n",
       "      <td>1083.677580</td>\n",
       "      <td>207.659041</td>\n",
       "      <td>62</td>\n",
       "      <td>4856.0</td>\n",
       "    </tr>\n",
       "    <tr>\n",
       "      <th>30</th>\n",
       "      <td>2020</td>\n",
       "      <td>112635.0</td>\n",
       "      <td>1148.698235</td>\n",
       "      <td>212.207371</td>\n",
       "      <td>59</td>\n",
       "      <td>4981.5</td>\n",
       "    </tr>\n",
       "    <tr>\n",
       "      <th>31</th>\n",
       "      <td>2021</td>\n",
       "      <td>122391.0</td>\n",
       "      <td>1217.620129</td>\n",
       "      <td>216.691386</td>\n",
       "      <td>58</td>\n",
       "      <td>5107.0</td>\n",
       "    </tr>\n",
       "    <tr>\n",
       "      <th>32</th>\n",
       "      <td>2022</td>\n",
       "      <td>121872.0</td>\n",
       "      <td>1290.677336</td>\n",
       "      <td>221.093284</td>\n",
       "      <td>57</td>\n",
       "      <td>5232.5</td>\n",
       "    </tr>\n",
       "  </tbody>\n",
       "</table>\n",
       "</div>"
      ],
      "text/plain": [
       "    Years    Salary   material 1  material 2  demand   price\n",
       "0    1990   39343.0   200.000000   89.600000     103  1200.0\n",
       "1    1991   46205.0   212.000000   92.662500     104  1375.0\n",
       "2    1992   37731.0   224.720000   95.807250     101  1451.0\n",
       "3    1993   43525.0   238.203200   99.034819      99  1593.0\n",
       "4    1994   39891.0   252.495392  102.345626      95  1718.5\n",
       "5    1995   56642.0   267.645116  105.739927      96  1844.0\n",
       "6    1996   60150.0   283.703822  109.217795      95  1969.5\n",
       "7    1997   54445.0   300.726052  112.779099      92  2095.0\n",
       "8    1998   64445.0   318.769615  116.423489      92  2220.5\n",
       "9    1999   57189.0   337.895792  120.150370      87  2346.0\n",
       "10   2000   63218.0   358.169539  123.958881      84  2471.5\n",
       "11   2001   55794.0   379.659712  127.847867      86  2597.0\n",
       "12   2002   56957.0   402.439294  131.815854      87  2722.5\n",
       "13   2003       NaN   426.585652  135.861021      78  2848.0\n",
       "14   2004   57081.0   452.180791  139.981164      79  2973.5\n",
       "15   2005   61111.0   479.311639  144.173669      78  3099.0\n",
       "16   2006   67938.0   508.070337  148.435472      78  3224.5\n",
       "17   2007   66029.0   538.554557  152.763021      71  3350.0\n",
       "18   2008   83088.0   570.867831  157.152236      73  3475.5\n",
       "19   2009   81363.0   605.119900  161.598465      72  3601.0\n",
       "20   2010       NaN   641.427094  166.096436      71  3726.5\n",
       "21   2011   93940.0   679.912720  170.640209      67  3852.0\n",
       "22   2012   91738.0   720.707483  175.223117      70  3977.5\n",
       "23   2013       NaN   763.949932  179.837716      69  4103.0\n",
       "24   2014   98273.0   809.786928  184.475717      68  4228.5\n",
       "25   2015  101302.0   858.374144  189.127923      63  4354.0\n",
       "26   2016  113812.0   909.876593  193.784161      64  4479.5\n",
       "27   2017  109431.0   964.469188  198.433204      62  4605.0\n",
       "28   2018  105582.0  1022.337339  203.062689      61  4730.5\n",
       "29   2019  116969.0  1083.677580  207.659041      62  4856.0\n",
       "30   2020  112635.0  1148.698235  212.207371      59  4981.5\n",
       "31   2021  122391.0  1217.620129  216.691386      58  5107.0\n",
       "32   2022  121872.0  1290.677336  221.093284      57  5232.5"
      ]
     },
     "execution_count": 68,
     "metadata": {},
     "output_type": "execute_result"
    }
   ],
   "source": [
    "df = pd.read_excel('C:/Users/Lenovo/Desktop/data.xlsx')\n",
    "df"
   ]
  },
  {
   "cell_type": "markdown",
   "id": "fa897849-0a7a-489c-9957-cdfc57f23a37",
   "metadata": {},
   "source": [
    "_Show Sum of NAN Data_"
   ]
  },
  {
   "cell_type": "code",
   "execution_count": 69,
   "id": "4165a482-bdc2-4d14-854f-c514edee3944",
   "metadata": {},
   "outputs": [
    {
     "data": {
      "text/plain": [
       "Years         0\n",
       "Salary        3\n",
       "material 1    0\n",
       "material 2    0\n",
       "demand        0\n",
       "price         0\n",
       "dtype: int64"
      ]
     },
     "execution_count": 69,
     "metadata": {},
     "output_type": "execute_result"
    }
   ],
   "source": [
    "df.isnull().sum()"
   ]
  },
  {
   "cell_type": "markdown",
   "id": "6b0096e3-0dfb-4562-a4b0-277a38600dd4",
   "metadata": {},
   "source": [
    "**1**)We filled NAN values with the previous three lines"
   ]
  },
  {
   "cell_type": "code",
   "execution_count": 70,
   "id": "a856b55f-30b8-4cf6-aa70-ba22e22e3873",
   "metadata": {},
   "outputs": [
    {
     "data": {
      "text/html": [
       "<div>\n",
       "<style scoped>\n",
       "    .dataframe tbody tr th:only-of-type {\n",
       "        vertical-align: middle;\n",
       "    }\n",
       "\n",
       "    .dataframe tbody tr th {\n",
       "        vertical-align: top;\n",
       "    }\n",
       "\n",
       "    .dataframe thead th {\n",
       "        text-align: right;\n",
       "    }\n",
       "</style>\n",
       "<table border=\"1\" class=\"dataframe\">\n",
       "  <thead>\n",
       "    <tr style=\"text-align: right;\">\n",
       "      <th></th>\n",
       "      <th>Years</th>\n",
       "      <th>Salary</th>\n",
       "      <th>material 1</th>\n",
       "      <th>material 2</th>\n",
       "      <th>demand</th>\n",
       "      <th>price</th>\n",
       "    </tr>\n",
       "  </thead>\n",
       "  <tbody>\n",
       "    <tr>\n",
       "      <th>0</th>\n",
       "      <td>1990</td>\n",
       "      <td>39343.0</td>\n",
       "      <td>200.000000</td>\n",
       "      <td>89.600000</td>\n",
       "      <td>103</td>\n",
       "      <td>1200.0</td>\n",
       "    </tr>\n",
       "    <tr>\n",
       "      <th>1</th>\n",
       "      <td>1991</td>\n",
       "      <td>46205.0</td>\n",
       "      <td>212.000000</td>\n",
       "      <td>92.662500</td>\n",
       "      <td>104</td>\n",
       "      <td>1375.0</td>\n",
       "    </tr>\n",
       "    <tr>\n",
       "      <th>2</th>\n",
       "      <td>1992</td>\n",
       "      <td>37731.0</td>\n",
       "      <td>224.720000</td>\n",
       "      <td>95.807250</td>\n",
       "      <td>101</td>\n",
       "      <td>1451.0</td>\n",
       "    </tr>\n",
       "    <tr>\n",
       "      <th>3</th>\n",
       "      <td>1993</td>\n",
       "      <td>43525.0</td>\n",
       "      <td>238.203200</td>\n",
       "      <td>99.034819</td>\n",
       "      <td>99</td>\n",
       "      <td>1593.0</td>\n",
       "    </tr>\n",
       "    <tr>\n",
       "      <th>4</th>\n",
       "      <td>1994</td>\n",
       "      <td>39891.0</td>\n",
       "      <td>252.495392</td>\n",
       "      <td>102.345626</td>\n",
       "      <td>95</td>\n",
       "      <td>1718.5</td>\n",
       "    </tr>\n",
       "    <tr>\n",
       "      <th>5</th>\n",
       "      <td>1995</td>\n",
       "      <td>56642.0</td>\n",
       "      <td>267.645116</td>\n",
       "      <td>105.739927</td>\n",
       "      <td>96</td>\n",
       "      <td>1844.0</td>\n",
       "    </tr>\n",
       "    <tr>\n",
       "      <th>6</th>\n",
       "      <td>1996</td>\n",
       "      <td>60150.0</td>\n",
       "      <td>283.703822</td>\n",
       "      <td>109.217795</td>\n",
       "      <td>95</td>\n",
       "      <td>1969.5</td>\n",
       "    </tr>\n",
       "    <tr>\n",
       "      <th>7</th>\n",
       "      <td>1997</td>\n",
       "      <td>54445.0</td>\n",
       "      <td>300.726052</td>\n",
       "      <td>112.779099</td>\n",
       "      <td>92</td>\n",
       "      <td>2095.0</td>\n",
       "    </tr>\n",
       "    <tr>\n",
       "      <th>8</th>\n",
       "      <td>1998</td>\n",
       "      <td>64445.0</td>\n",
       "      <td>318.769615</td>\n",
       "      <td>116.423489</td>\n",
       "      <td>92</td>\n",
       "      <td>2220.5</td>\n",
       "    </tr>\n",
       "    <tr>\n",
       "      <th>9</th>\n",
       "      <td>1999</td>\n",
       "      <td>57189.0</td>\n",
       "      <td>337.895792</td>\n",
       "      <td>120.150370</td>\n",
       "      <td>87</td>\n",
       "      <td>2346.0</td>\n",
       "    </tr>\n",
       "    <tr>\n",
       "      <th>10</th>\n",
       "      <td>2000</td>\n",
       "      <td>63218.0</td>\n",
       "      <td>358.169539</td>\n",
       "      <td>123.958881</td>\n",
       "      <td>84</td>\n",
       "      <td>2471.5</td>\n",
       "    </tr>\n",
       "    <tr>\n",
       "      <th>11</th>\n",
       "      <td>2001</td>\n",
       "      <td>55794.0</td>\n",
       "      <td>379.659712</td>\n",
       "      <td>127.847867</td>\n",
       "      <td>86</td>\n",
       "      <td>2597.0</td>\n",
       "    </tr>\n",
       "    <tr>\n",
       "      <th>12</th>\n",
       "      <td>2002</td>\n",
       "      <td>56957.0</td>\n",
       "      <td>402.439294</td>\n",
       "      <td>131.815854</td>\n",
       "      <td>87</td>\n",
       "      <td>2722.5</td>\n",
       "    </tr>\n",
       "    <tr>\n",
       "      <th>13</th>\n",
       "      <td>2003</td>\n",
       "      <td>56375.5</td>\n",
       "      <td>426.585652</td>\n",
       "      <td>135.861021</td>\n",
       "      <td>78</td>\n",
       "      <td>2848.0</td>\n",
       "    </tr>\n",
       "    <tr>\n",
       "      <th>14</th>\n",
       "      <td>2004</td>\n",
       "      <td>57081.0</td>\n",
       "      <td>452.180791</td>\n",
       "      <td>139.981164</td>\n",
       "      <td>79</td>\n",
       "      <td>2973.5</td>\n",
       "    </tr>\n",
       "    <tr>\n",
       "      <th>15</th>\n",
       "      <td>2005</td>\n",
       "      <td>61111.0</td>\n",
       "      <td>479.311639</td>\n",
       "      <td>144.173669</td>\n",
       "      <td>78</td>\n",
       "      <td>3099.0</td>\n",
       "    </tr>\n",
       "    <tr>\n",
       "      <th>16</th>\n",
       "      <td>2006</td>\n",
       "      <td>67938.0</td>\n",
       "      <td>508.070337</td>\n",
       "      <td>148.435472</td>\n",
       "      <td>78</td>\n",
       "      <td>3224.5</td>\n",
       "    </tr>\n",
       "    <tr>\n",
       "      <th>17</th>\n",
       "      <td>2007</td>\n",
       "      <td>66029.0</td>\n",
       "      <td>538.554557</td>\n",
       "      <td>152.763021</td>\n",
       "      <td>71</td>\n",
       "      <td>3350.0</td>\n",
       "    </tr>\n",
       "    <tr>\n",
       "      <th>18</th>\n",
       "      <td>2008</td>\n",
       "      <td>83088.0</td>\n",
       "      <td>570.867831</td>\n",
       "      <td>157.152236</td>\n",
       "      <td>73</td>\n",
       "      <td>3475.5</td>\n",
       "    </tr>\n",
       "    <tr>\n",
       "      <th>19</th>\n",
       "      <td>2009</td>\n",
       "      <td>81363.0</td>\n",
       "      <td>605.119900</td>\n",
       "      <td>161.598465</td>\n",
       "      <td>72</td>\n",
       "      <td>3601.0</td>\n",
       "    </tr>\n",
       "    <tr>\n",
       "      <th>20</th>\n",
       "      <td>2010</td>\n",
       "      <td>82225.5</td>\n",
       "      <td>641.427094</td>\n",
       "      <td>166.096436</td>\n",
       "      <td>71</td>\n",
       "      <td>3726.5</td>\n",
       "    </tr>\n",
       "    <tr>\n",
       "      <th>21</th>\n",
       "      <td>2011</td>\n",
       "      <td>93940.0</td>\n",
       "      <td>679.912720</td>\n",
       "      <td>170.640209</td>\n",
       "      <td>67</td>\n",
       "      <td>3852.0</td>\n",
       "    </tr>\n",
       "    <tr>\n",
       "      <th>22</th>\n",
       "      <td>2012</td>\n",
       "      <td>91738.0</td>\n",
       "      <td>720.707483</td>\n",
       "      <td>175.223117</td>\n",
       "      <td>70</td>\n",
       "      <td>3977.5</td>\n",
       "    </tr>\n",
       "    <tr>\n",
       "      <th>23</th>\n",
       "      <td>2013</td>\n",
       "      <td>92839.0</td>\n",
       "      <td>763.949932</td>\n",
       "      <td>179.837716</td>\n",
       "      <td>69</td>\n",
       "      <td>4103.0</td>\n",
       "    </tr>\n",
       "    <tr>\n",
       "      <th>24</th>\n",
       "      <td>2014</td>\n",
       "      <td>98273.0</td>\n",
       "      <td>809.786928</td>\n",
       "      <td>184.475717</td>\n",
       "      <td>68</td>\n",
       "      <td>4228.5</td>\n",
       "    </tr>\n",
       "    <tr>\n",
       "      <th>25</th>\n",
       "      <td>2015</td>\n",
       "      <td>101302.0</td>\n",
       "      <td>858.374144</td>\n",
       "      <td>189.127923</td>\n",
       "      <td>63</td>\n",
       "      <td>4354.0</td>\n",
       "    </tr>\n",
       "    <tr>\n",
       "      <th>26</th>\n",
       "      <td>2016</td>\n",
       "      <td>113812.0</td>\n",
       "      <td>909.876593</td>\n",
       "      <td>193.784161</td>\n",
       "      <td>64</td>\n",
       "      <td>4479.5</td>\n",
       "    </tr>\n",
       "    <tr>\n",
       "      <th>27</th>\n",
       "      <td>2017</td>\n",
       "      <td>109431.0</td>\n",
       "      <td>964.469188</td>\n",
       "      <td>198.433204</td>\n",
       "      <td>62</td>\n",
       "      <td>4605.0</td>\n",
       "    </tr>\n",
       "    <tr>\n",
       "      <th>28</th>\n",
       "      <td>2018</td>\n",
       "      <td>105582.0</td>\n",
       "      <td>1022.337339</td>\n",
       "      <td>203.062689</td>\n",
       "      <td>61</td>\n",
       "      <td>4730.5</td>\n",
       "    </tr>\n",
       "    <tr>\n",
       "      <th>29</th>\n",
       "      <td>2019</td>\n",
       "      <td>116969.0</td>\n",
       "      <td>1083.677580</td>\n",
       "      <td>207.659041</td>\n",
       "      <td>62</td>\n",
       "      <td>4856.0</td>\n",
       "    </tr>\n",
       "    <tr>\n",
       "      <th>30</th>\n",
       "      <td>2020</td>\n",
       "      <td>112635.0</td>\n",
       "      <td>1148.698235</td>\n",
       "      <td>212.207371</td>\n",
       "      <td>59</td>\n",
       "      <td>4981.5</td>\n",
       "    </tr>\n",
       "    <tr>\n",
       "      <th>31</th>\n",
       "      <td>2021</td>\n",
       "      <td>122391.0</td>\n",
       "      <td>1217.620129</td>\n",
       "      <td>216.691386</td>\n",
       "      <td>58</td>\n",
       "      <td>5107.0</td>\n",
       "    </tr>\n",
       "    <tr>\n",
       "      <th>32</th>\n",
       "      <td>2022</td>\n",
       "      <td>121872.0</td>\n",
       "      <td>1290.677336</td>\n",
       "      <td>221.093284</td>\n",
       "      <td>57</td>\n",
       "      <td>5232.5</td>\n",
       "    </tr>\n",
       "  </tbody>\n",
       "</table>\n",
       "</div>"
      ],
      "text/plain": [
       "    Years    Salary   material 1  material 2  demand   price\n",
       "0    1990   39343.0   200.000000   89.600000     103  1200.0\n",
       "1    1991   46205.0   212.000000   92.662500     104  1375.0\n",
       "2    1992   37731.0   224.720000   95.807250     101  1451.0\n",
       "3    1993   43525.0   238.203200   99.034819      99  1593.0\n",
       "4    1994   39891.0   252.495392  102.345626      95  1718.5\n",
       "5    1995   56642.0   267.645116  105.739927      96  1844.0\n",
       "6    1996   60150.0   283.703822  109.217795      95  1969.5\n",
       "7    1997   54445.0   300.726052  112.779099      92  2095.0\n",
       "8    1998   64445.0   318.769615  116.423489      92  2220.5\n",
       "9    1999   57189.0   337.895792  120.150370      87  2346.0\n",
       "10   2000   63218.0   358.169539  123.958881      84  2471.5\n",
       "11   2001   55794.0   379.659712  127.847867      86  2597.0\n",
       "12   2002   56957.0   402.439294  131.815854      87  2722.5\n",
       "13   2003   56375.5   426.585652  135.861021      78  2848.0\n",
       "14   2004   57081.0   452.180791  139.981164      79  2973.5\n",
       "15   2005   61111.0   479.311639  144.173669      78  3099.0\n",
       "16   2006   67938.0   508.070337  148.435472      78  3224.5\n",
       "17   2007   66029.0   538.554557  152.763021      71  3350.0\n",
       "18   2008   83088.0   570.867831  157.152236      73  3475.5\n",
       "19   2009   81363.0   605.119900  161.598465      72  3601.0\n",
       "20   2010   82225.5   641.427094  166.096436      71  3726.5\n",
       "21   2011   93940.0   679.912720  170.640209      67  3852.0\n",
       "22   2012   91738.0   720.707483  175.223117      70  3977.5\n",
       "23   2013   92839.0   763.949932  179.837716      69  4103.0\n",
       "24   2014   98273.0   809.786928  184.475717      68  4228.5\n",
       "25   2015  101302.0   858.374144  189.127923      63  4354.0\n",
       "26   2016  113812.0   909.876593  193.784161      64  4479.5\n",
       "27   2017  109431.0   964.469188  198.433204      62  4605.0\n",
       "28   2018  105582.0  1022.337339  203.062689      61  4730.5\n",
       "29   2019  116969.0  1083.677580  207.659041      62  4856.0\n",
       "30   2020  112635.0  1148.698235  212.207371      59  4981.5\n",
       "31   2021  122391.0  1217.620129  216.691386      58  5107.0\n",
       "32   2022  121872.0  1290.677336  221.093284      57  5232.5"
      ]
     },
     "execution_count": 70,
     "metadata": {},
     "output_type": "execute_result"
    }
   ],
   "source": [
    "df['Salary']= df['Salary'].fillna(df['Salary'].rolling(window=3,min_periods=1).mean())\n",
    "df"
   ]
  },
  {
   "cell_type": "markdown",
   "id": "494d054d-9dad-4e05-af7c-f46845712fd8",
   "metadata": {},
   "source": [
    "**Import sklearn**\n"
   ]
  },
  {
   "cell_type": "code",
   "execution_count": 71,
   "id": "3b15b450-f8f7-4352-9a61-ca056d519721",
   "metadata": {},
   "outputs": [],
   "source": [
    "from sklearn.linear_model import LinearRegression"
   ]
  },
  {
   "cell_type": "markdown",
   "id": "659a5486-689a-492f-99e3-83aab6f50376",
   "metadata": {},
   "source": [
    "**2**)X and Y were determined"
   ]
  },
  {
   "cell_type": "code",
   "execution_count": 72,
   "id": "609bde8a-ee65-4b31-8a51-440929cd8320",
   "metadata": {},
   "outputs": [],
   "source": [
    "X = df['Years'].values.reshape(-1,1)\n",
    "Y = df['Salary'].values.reshape(-1,1)\n"
   ]
  },
  {
   "cell_type": "code",
   "execution_count": 73,
   "id": "9c5d74d9-d9d7-4f8c-b6b3-981326042949",
   "metadata": {},
   "outputs": [],
   "source": [
    "model = LinearRegression()"
   ]
  },
  {
   "cell_type": "code",
   "execution_count": 74,
   "id": "513ff33c-934d-49bd-939d-71be2f9555c6",
   "metadata": {},
   "outputs": [
    {
     "data": {
      "text/html": [
       "<style>#sk-container-id-3 {color: black;}#sk-container-id-3 pre{padding: 0;}#sk-container-id-3 div.sk-toggleable {background-color: white;}#sk-container-id-3 label.sk-toggleable__label {cursor: pointer;display: block;width: 100%;margin-bottom: 0;padding: 0.3em;box-sizing: border-box;text-align: center;}#sk-container-id-3 label.sk-toggleable__label-arrow:before {content: \"▸\";float: left;margin-right: 0.25em;color: #696969;}#sk-container-id-3 label.sk-toggleable__label-arrow:hover:before {color: black;}#sk-container-id-3 div.sk-estimator:hover label.sk-toggleable__label-arrow:before {color: black;}#sk-container-id-3 div.sk-toggleable__content {max-height: 0;max-width: 0;overflow: hidden;text-align: left;background-color: #f0f8ff;}#sk-container-id-3 div.sk-toggleable__content pre {margin: 0.2em;color: black;border-radius: 0.25em;background-color: #f0f8ff;}#sk-container-id-3 input.sk-toggleable__control:checked~div.sk-toggleable__content {max-height: 200px;max-width: 100%;overflow: auto;}#sk-container-id-3 input.sk-toggleable__control:checked~label.sk-toggleable__label-arrow:before {content: \"▾\";}#sk-container-id-3 div.sk-estimator input.sk-toggleable__control:checked~label.sk-toggleable__label {background-color: #d4ebff;}#sk-container-id-3 div.sk-label input.sk-toggleable__control:checked~label.sk-toggleable__label {background-color: #d4ebff;}#sk-container-id-3 input.sk-hidden--visually {border: 0;clip: rect(1px 1px 1px 1px);clip: rect(1px, 1px, 1px, 1px);height: 1px;margin: -1px;overflow: hidden;padding: 0;position: absolute;width: 1px;}#sk-container-id-3 div.sk-estimator {font-family: monospace;background-color: #f0f8ff;border: 1px dotted black;border-radius: 0.25em;box-sizing: border-box;margin-bottom: 0.5em;}#sk-container-id-3 div.sk-estimator:hover {background-color: #d4ebff;}#sk-container-id-3 div.sk-parallel-item::after {content: \"\";width: 100%;border-bottom: 1px solid gray;flex-grow: 1;}#sk-container-id-3 div.sk-label:hover label.sk-toggleable__label {background-color: #d4ebff;}#sk-container-id-3 div.sk-serial::before {content: \"\";position: absolute;border-left: 1px solid gray;box-sizing: border-box;top: 0;bottom: 0;left: 50%;z-index: 0;}#sk-container-id-3 div.sk-serial {display: flex;flex-direction: column;align-items: center;background-color: white;padding-right: 0.2em;padding-left: 0.2em;position: relative;}#sk-container-id-3 div.sk-item {position: relative;z-index: 1;}#sk-container-id-3 div.sk-parallel {display: flex;align-items: stretch;justify-content: center;background-color: white;position: relative;}#sk-container-id-3 div.sk-item::before, #sk-container-id-3 div.sk-parallel-item::before {content: \"\";position: absolute;border-left: 1px solid gray;box-sizing: border-box;top: 0;bottom: 0;left: 50%;z-index: -1;}#sk-container-id-3 div.sk-parallel-item {display: flex;flex-direction: column;z-index: 1;position: relative;background-color: white;}#sk-container-id-3 div.sk-parallel-item:first-child::after {align-self: flex-end;width: 50%;}#sk-container-id-3 div.sk-parallel-item:last-child::after {align-self: flex-start;width: 50%;}#sk-container-id-3 div.sk-parallel-item:only-child::after {width: 0;}#sk-container-id-3 div.sk-dashed-wrapped {border: 1px dashed gray;margin: 0 0.4em 0.5em 0.4em;box-sizing: border-box;padding-bottom: 0.4em;background-color: white;}#sk-container-id-3 div.sk-label label {font-family: monospace;font-weight: bold;display: inline-block;line-height: 1.2em;}#sk-container-id-3 div.sk-label-container {text-align: center;}#sk-container-id-3 div.sk-container {/* jupyter's `normalize.less` sets `[hidden] { display: none; }` but bootstrap.min.css set `[hidden] { display: none !important; }` so we also need the `!important` here to be able to override the default hidden behavior on the sphinx rendered scikit-learn.org. See: https://github.com/scikit-learn/scikit-learn/issues/21755 */display: inline-block !important;position: relative;}#sk-container-id-3 div.sk-text-repr-fallback {display: none;}</style><div id=\"sk-container-id-3\" class=\"sk-top-container\"><div class=\"sk-text-repr-fallback\"><pre>LinearRegression()</pre><b>In a Jupyter environment, please rerun this cell to show the HTML representation or trust the notebook. <br />On GitHub, the HTML representation is unable to render, please try loading this page with nbviewer.org.</b></div><div class=\"sk-container\" hidden><div class=\"sk-item\"><div class=\"sk-estimator sk-toggleable\"><input class=\"sk-toggleable__control sk-hidden--visually\" id=\"sk-estimator-id-3\" type=\"checkbox\" checked><label for=\"sk-estimator-id-3\" class=\"sk-toggleable__label sk-toggleable__label-arrow\">LinearRegression</label><div class=\"sk-toggleable__content\"><pre>LinearRegression()</pre></div></div></div></div></div>"
      ],
      "text/plain": [
       "LinearRegression()"
      ]
     },
     "execution_count": 74,
     "metadata": {},
     "output_type": "execute_result"
    }
   ],
   "source": [
    "model.fit(X,Y)"
   ]
  },
  {
   "cell_type": "markdown",
   "id": "c309f382-3cbb-4136-a848-73306fcb3b47",
   "metadata": {},
   "source": [
    "Get the intercept and the coefficient"
   ]
  },
  {
   "cell_type": "code",
   "execution_count": 75,
   "id": "57fdb859-4db5-44bc-a120-3a90f8b0028d",
   "metadata": {},
   "outputs": [],
   "source": [
    "intercept = model.intercept_[0]\n",
    "coefficient = model.coef_[0][0]"
   ]
  },
  {
   "cell_type": "code",
   "execution_count": 76,
   "id": "02c9b75b-f32b-4730-9c01-f470077f8964",
   "metadata": {},
   "outputs": [
    {
     "data": {
      "text/plain": [
       "-5226503.615530303"
      ]
     },
     "execution_count": 76,
     "metadata": {},
     "output_type": "execute_result"
    }
   ],
   "source": [
    "intercept"
   ]
  },
  {
   "cell_type": "code",
   "execution_count": 77,
   "id": "bad12e50-b0a8-484d-a1a2-fb10a0186eb7",
   "metadata": {},
   "outputs": [
    {
     "data": {
      "text/plain": [
       "2643.3751671122996"
      ]
     },
     "execution_count": 77,
     "metadata": {},
     "output_type": "execute_result"
    }
   ],
   "source": [
    "coefficient"
   ]
  },
  {
   "cell_type": "markdown",
   "id": "e30c23b1-f66d-4f81-b5a7-8ee3d77df494",
   "metadata": {},
   "source": [
    "Defining Regression function"
   ]
  },
  {
   "cell_type": "code",
   "execution_count": 78,
   "id": "27590e4a-80b4-40f7-b7b6-01fb5bdd3474",
   "metadata": {},
   "outputs": [],
   "source": [
    "def predict(x):\n",
    "    return intercept + coefficient * x"
   ]
  },
  {
   "cell_type": "markdown",
   "id": "f7c8a875-64b1-40bd-aaca-8f3f8f5cbd64",
   "metadata": {},
   "source": [
    "**2023**\n"
   ]
  },
  {
   "cell_type": "code",
   "execution_count": 79,
   "id": "ab5bfcb8-3727-41fb-8f66-f2474bfe85c5",
   "metadata": {},
   "outputs": [
    {
     "data": {
      "text/plain": [
       "121044.3475378789"
      ]
     },
     "execution_count": 79,
     "metadata": {},
     "output_type": "execute_result"
    }
   ],
   "source": [
    "predict(2023)"
   ]
  },
  {
   "cell_type": "markdown",
   "id": "c26e814a-f651-49f1-90e4-b98913c591d9",
   "metadata": {},
   "source": [
    "**2024**"
   ]
  },
  {
   "cell_type": "code",
   "execution_count": 80,
   "id": "1ec9066f-c446-4d1e-9de2-d72349b464eb",
   "metadata": {},
   "outputs": [
    {
     "data": {
      "text/plain": [
       "123687.7227049917"
      ]
     },
     "execution_count": 80,
     "metadata": {},
     "output_type": "execute_result"
    }
   ],
   "source": [
    "predict(2024)"
   ]
  },
  {
   "cell_type": "markdown",
   "id": "be4165d1-57c0-48bd-b515-10be7e066c02",
   "metadata": {},
   "source": [
    "**2025**"
   ]
  },
  {
   "cell_type": "code",
   "execution_count": 81,
   "id": "ac967470-b8b0-44f0-906a-f66f95525be7",
   "metadata": {},
   "outputs": [
    {
     "data": {
      "text/plain": [
       "126331.09787210356"
      ]
     },
     "execution_count": 81,
     "metadata": {},
     "output_type": "execute_result"
    }
   ],
   "source": [
    "predict(2025)"
   ]
  },
  {
   "cell_type": "markdown",
   "id": "4fc71d6c-a35b-4c5a-85e5-5ca5c1b7cc8e",
   "metadata": {},
   "source": [
    "**2026**"
   ]
  },
  {
   "cell_type": "code",
   "execution_count": 82,
   "id": "18e52b17-61de-4fdc-b571-9bcb740f0ff8",
   "metadata": {},
   "outputs": [
    {
     "data": {
      "text/plain": [
       "128974.47303921636"
      ]
     },
     "execution_count": 82,
     "metadata": {},
     "output_type": "execute_result"
    }
   ],
   "source": [
    "predict(2026)"
   ]
  },
  {
   "cell_type": "markdown",
   "id": "38a0864a-4082-421d-b160-72e1cf0d0e71",
   "metadata": {},
   "source": [
    "**Import matplotlib**"
   ]
  },
  {
   "cell_type": "code",
   "execution_count": 83,
   "id": "0ddc5b09-42d0-455a-97b3-052089dc2c28",
   "metadata": {},
   "outputs": [],
   "source": [
    "import matplotlib.pylab as plt"
   ]
  },
  {
   "cell_type": "markdown",
   "id": "aa45ae95-5472-4548-94b9-25a908054630",
   "metadata": {},
   "source": [
    "**3**)Draw dot chart"
   ]
  },
  {
   "cell_type": "code",
   "execution_count": 84,
   "id": "dbc2f76d-a763-42c6-82b7-2929f05b4503",
   "metadata": {},
   "outputs": [
    {
     "data": {
      "image/png": "[encoded data removed]",
      "text/plain": [
       "<Figure size 640x480 with 1 Axes>"
      ]
     },
     "metadata": {},
     "output_type": "display_data"
    }
   ],
   "source": [
    "plt.scatter(df['Years'],df['Salary'])\n",
    "plt.show()"
   ]
  },
  {
   "cell_type": "markdown",
   "id": "f5732342-db6a-4009-9363-0e43085d8925",
   "metadata": {},
   "source": [
    "Draw dot chart and linear regression chart and compare them"
   ]
  },
  {
   "cell_type": "code",
   "execution_count": 85,
   "id": "5a9efe9a-ae04-4b62-a3d3-44b5e481b15f",
   "metadata": {},
   "outputs": [
    {
     "data": {
      "image/png": "[encoded data removed]",
      "text/plain": [
       "<Figure size 640x480 with 1 Axes>"
      ]
     },
     "metadata": {},
     "output_type": "display_data"
    }
   ],
   "source": [
    "plt.scatter(df['Years'],df['Salary'])\n",
    "plt.plot(df['Years'],model.predict(X),c = 'purple')\n",
    "plt.show()"
   ]
  },
  {
   "cell_type": "markdown",
   "id": "d6d86638-4834-42bf-9745-81e044260e2c",
   "metadata": {},
   "source": [
    "The accuracy coefficient was obtained"
   ]
  },
  {
   "cell_type": "code",
   "execution_count": 86,
   "id": "19fc896d-5a58-43ec-bf31-248264c97bf6",
   "metadata": {},
   "outputs": [
    {
     "data": {
      "text/plain": [
       "0.9290893796805337"
      ]
     },
     "execution_count": 86,
     "metadata": {},
     "output_type": "execute_result"
    }
   ],
   "source": [
    "score = model.score(X,Y)\n",
    "score"
   ]
  },
  {
   "cell_type": "markdown",
   "id": "7b49dd4b-ef43-4232-b8c6-53f82e131fb2",
   "metadata": {},
   "source": [
    "4)"
   ]
  },
  {
   "cell_type": "code",
   "execution_count": 87,
   "id": "0360c052-e262-4f25-9671-20c50807cc23",
   "metadata": {},
   "outputs": [],
   "source": [
    "def POM1(i,n,P):\n",
    "    F = P * (1 + i) ** n\n",
    "    return F\n",
    "    "
   ]
  },
  {
   "cell_type": "markdown",
   "id": "393129fc-0c1b-406a-ba62-235817fd47bd",
   "metadata": {},
   "source": [
    "**Price of material1 in 2023**"
   ]
  },
  {
   "cell_type": "code",
   "execution_count": 88,
   "id": "f762ceea-0d80-465f-9995-3a08d6aa4446",
   "metadata": {},
   "outputs": [
    {
     "data": {
      "text/plain": [
       "1368.1179765596917"
      ]
     },
     "execution_count": 88,
     "metadata": {},
     "output_type": "execute_result"
    }
   ],
   "source": [
    "i = 0.05 + 0.01\n",
    "n = 2023 - df.iloc[0,0] \n",
    "p = df.iloc[0,2]\n",
    "POM1(i,n,p)"
   ]
  },
  {
   "cell_type": "markdown",
   "id": "d77ffa1e-961a-4592-a78c-5156d587d0bf",
   "metadata": {},
   "source": [
    "**Price of material1 in 2024**"
   ]
  },
  {
   "cell_type": "code",
   "execution_count": 89,
   "id": "ab3db5ed-7056-4cbd-b9ce-389ca1f5962b",
   "metadata": {},
   "outputs": [
    {
     "data": {
      "text/plain": [
       "1450.2050551532734"
      ]
     },
     "execution_count": 89,
     "metadata": {},
     "output_type": "execute_result"
    }
   ],
   "source": [
    "i = 0.05 + 0.01\n",
    "n = 2024 - df.iloc[0,0] \n",
    "p = df.iloc[0,2]\n",
    "POM1(i,n,p)"
   ]
  },
  {
   "cell_type": "markdown",
   "id": "efb90121-a687-4d60-a4fd-a77fa5d91503",
   "metadata": {},
   "source": [
    "**Price of material1 in 2025**"
   ]
  },
  {
   "cell_type": "code",
   "execution_count": 90,
   "id": "d87f369f-cb46-4429-ae9c-bbeabdc3c680",
   "metadata": {},
   "outputs": [
    {
     "data": {
      "text/plain": [
       "1537.21735846247"
      ]
     },
     "execution_count": 90,
     "metadata": {},
     "output_type": "execute_result"
    }
   ],
   "source": [
    "i = 0.05 + 0.01\n",
    "n = 2025 - df.iloc[0,0] \n",
    "p = df.iloc[0,2]\n",
    "POM1(i,n,p)"
   ]
  },
  {
   "cell_type": "markdown",
   "id": "e46cf8d1-5a05-404e-81c5-c4d0796f9b89",
   "metadata": {},
   "source": [
    "**Price of material1 in 2026**"
   ]
  },
  {
   "cell_type": "code",
   "execution_count": 91,
   "id": "6764e954-8b27-4b22-8b3b-f937d0025a8f",
   "metadata": {},
   "outputs": [
    {
     "data": {
      "text/plain": [
       "1629.4503999702179"
      ]
     },
     "execution_count": 91,
     "metadata": {},
     "output_type": "execute_result"
    }
   ],
   "source": [
    "i = 0.05 + 0.01\n",
    "n = 2026 - df.iloc[0,0] \n",
    "p = df.iloc[0,2]\n",
    "POM1(i,n,p)"
   ]
  },
  {
   "cell_type": "code",
   "execution_count": null,
   "id": "4932dc1f-1d96-4fd6-a973-d3398bbdd10d",
   "metadata": {},
   "outputs": [],
   "source": []
  }
 ],
 "metadata": {
  "kernelspec": {
   "display_name": "Python 3 (ipykernel)",
   "language": "python",
   "name": "python3"
  },
  "language_info": {
   "codemirror_mode": {
    "name": "ipython",
    "version": 3
   },
   "file_extension": ".py",
   "mimetype": "text/x-python",
   "name": "python",
   "nbconvert_exporter": "python",
   "pygments_lexer": "ipython3",
   "version": "3.8.0"
  }
 },
 "nbformat": 4,
 "nbformat_minor": 5
}
