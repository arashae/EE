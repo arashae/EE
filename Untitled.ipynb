{
 "cells": [
  {
   "cell_type": "markdown",
   "metadata": {
    "pycharm": {
     "name": "#%% md\n"
    }
   },
   "source": [
    "**Import Pandas and Numpy**"
   ]
  },
  {
   "cell_type": "code",
   "execution_count": 46,
   "id": "705e15cf",
   "metadata": {
    "pycharm": {
     "name": "#%%\n"
    }
   },
   "outputs": [],
   "source": [
    "import pandas as pd\n",
    "import numpy as np"
   ]
  },
  {
   "cell_type": "markdown",
   "id": "e54d04fa",
   "metadata": {
    "pycharm": {
     "name": "#%% md\n"
    }
   },
   "source": [
    "**Read Data**"
   ]
  },
  {
   "cell_type": "code",
   "execution_count": 47,
   "id": "bf6382f9",
   "metadata": {
    "pycharm": {
     "name": "#%%\n"
    },
    "scrolled": true
   },
   "outputs": [
    {
     "data": {
      "text/html": [
       "<div>\n",
       "<style scoped>\n",
       "    .dataframe tbody tr th:only-of-type {\n",
       "        vertical-align: middle;\n",
       "    }\n",
       "\n",
       "    .dataframe tbody tr th {\n",
       "        vertical-align: top;\n",
       "    }\n",
       "\n",
       "    .dataframe thead th {\n",
       "        text-align: right;\n",
       "    }\n",
       "</style>\n",
       "<table border=\"1\" class=\"dataframe\">\n",
       "  <thead>\n",
       "    <tr style=\"text-align: right;\">\n",
       "      <th></th>\n",
       "      <th>Years</th>\n",
       "      <th>Salary</th>\n",
       "      <th>material 1</th>\n",
       "      <th>material 2</th>\n",
       "      <th>demand</th>\n",
       "      <th>price</th>\n",
       "    </tr>\n",
       "  </thead>\n",
       "  <tbody>\n",
       "    <tr>\n",
       "      <th>0</th>\n",
       "      <td>1990</td>\n",
       "      <td>39343.0</td>\n",
       "      <td>200.000000</td>\n",
       "      <td>89.600000</td>\n",
       "      <td>103</td>\n",
       "      <td>1200.0</td>\n",
       "    </tr>\n",
       "    <tr>\n",
       "      <th>1</th>\n",
       "      <td>1991</td>\n",
       "      <td>46205.0</td>\n",
       "      <td>212.000000</td>\n",
       "      <td>92.662500</td>\n",
       "      <td>104</td>\n",
       "      <td>1375.0</td>\n",
       "    </tr>\n",
       "    <tr>\n",
       "      <th>2</th>\n",
       "      <td>1992</td>\n",
       "      <td>37731.0</td>\n",
       "      <td>224.720000</td>\n",
       "      <td>95.807250</td>\n",
       "      <td>101</td>\n",
       "      <td>1451.0</td>\n",
       "    </tr>\n",
       "    <tr>\n",
       "      <th>3</th>\n",
       "      <td>1993</td>\n",
       "      <td>43525.0</td>\n",
       "      <td>238.203200</td>\n",
       "      <td>99.034819</td>\n",
       "      <td>99</td>\n",
       "      <td>1593.0</td>\n",
       "    </tr>\n",
       "    <tr>\n",
       "      <th>4</th>\n",
       "      <td>1994</td>\n",
       "      <td>39891.0</td>\n",
       "      <td>252.495392</td>\n",
       "      <td>102.345626</td>\n",
       "      <td>95</td>\n",
       "      <td>1718.5</td>\n",
       "    </tr>\n",
       "    <tr>\n",
       "      <th>5</th>\n",
       "      <td>1995</td>\n",
       "      <td>56642.0</td>\n",
       "      <td>267.645116</td>\n",
       "      <td>105.739927</td>\n",
       "      <td>96</td>\n",
       "      <td>1844.0</td>\n",
       "    </tr>\n",
       "    <tr>\n",
       "      <th>6</th>\n",
       "      <td>1996</td>\n",
       "      <td>60150.0</td>\n",
       "      <td>283.703822</td>\n",
       "      <td>109.217795</td>\n",
       "      <td>95</td>\n",
       "      <td>1969.5</td>\n",
       "    </tr>\n",
       "    <tr>\n",
       "      <th>7</th>\n",
       "      <td>1997</td>\n",
       "      <td>54445.0</td>\n",
       "      <td>300.726052</td>\n",
       "      <td>112.779099</td>\n",
       "      <td>92</td>\n",
       "      <td>2095.0</td>\n",
       "    </tr>\n",
       "    <tr>\n",
       "      <th>8</th>\n",
       "      <td>1998</td>\n",
       "      <td>64445.0</td>\n",
       "      <td>318.769615</td>\n",
       "      <td>116.423489</td>\n",
       "      <td>92</td>\n",
       "      <td>2220.5</td>\n",
       "    </tr>\n",
       "    <tr>\n",
       "      <th>9</th>\n",
       "      <td>1999</td>\n",
       "      <td>57189.0</td>\n",
       "      <td>337.895792</td>\n",
       "      <td>120.150370</td>\n",
       "      <td>87</td>\n",
       "      <td>2346.0</td>\n",
       "    </tr>\n",
       "    <tr>\n",
       "      <th>10</th>\n",
       "      <td>2000</td>\n",
       "      <td>63218.0</td>\n",
       "      <td>358.169539</td>\n",
       "      <td>123.958881</td>\n",
       "      <td>84</td>\n",
       "      <td>2471.5</td>\n",
       "    </tr>\n",
       "    <tr>\n",
       "      <th>11</th>\n",
       "      <td>2001</td>\n",
       "      <td>55794.0</td>\n",
       "      <td>379.659712</td>\n",
       "      <td>127.847867</td>\n",
       "      <td>86</td>\n",
       "      <td>2597.0</td>\n",
       "    </tr>\n",
       "    <tr>\n",
       "      <th>12</th>\n",
       "      <td>2002</td>\n",
       "      <td>56957.0</td>\n",
       "      <td>402.439294</td>\n",
       "      <td>131.815854</td>\n",
       "      <td>87</td>\n",
       "      <td>2722.5</td>\n",
       "    </tr>\n",
       "    <tr>\n",
       "      <th>13</th>\n",
       "      <td>2003</td>\n",
       "      <td>NaN</td>\n",
       "      <td>426.585652</td>\n",
       "      <td>135.861021</td>\n",
       "      <td>78</td>\n",
       "      <td>2848.0</td>\n",
       "    </tr>\n",
       "    <tr>\n",
       "      <th>14</th>\n",
       "      <td>2004</td>\n",
       "      <td>57081.0</td>\n",
       "      <td>452.180791</td>\n",
       "      <td>139.981164</td>\n",
       "      <td>79</td>\n",
       "      <td>2973.5</td>\n",
       "    </tr>\n",
       "    <tr>\n",
       "      <th>15</th>\n",
       "      <td>2005</td>\n",
       "      <td>61111.0</td>\n",
       "      <td>479.311639</td>\n",
       "      <td>144.173669</td>\n",
       "      <td>78</td>\n",
       "      <td>3099.0</td>\n",
       "    </tr>\n",
       "    <tr>\n",
       "      <th>16</th>\n",
       "      <td>2006</td>\n",
       "      <td>67938.0</td>\n",
       "      <td>508.070337</td>\n",
       "      <td>148.435472</td>\n",
       "      <td>78</td>\n",
       "      <td>3224.5</td>\n",
       "    </tr>\n",
       "    <tr>\n",
       "      <th>17</th>\n",
       "      <td>2007</td>\n",
       "      <td>66029.0</td>\n",
       "      <td>538.554557</td>\n",
       "      <td>152.763021</td>\n",
       "      <td>71</td>\n",
       "      <td>3350.0</td>\n",
       "    </tr>\n",
       "    <tr>\n",
       "      <th>18</th>\n",
       "      <td>2008</td>\n",
       "      <td>83088.0</td>\n",
       "      <td>570.867831</td>\n",
       "      <td>157.152236</td>\n",
       "      <td>73</td>\n",
       "      <td>3475.5</td>\n",
       "    </tr>\n",
       "    <tr>\n",
       "      <th>19</th>\n",
       "      <td>2009</td>\n",
       "      <td>81363.0</td>\n",
       "      <td>605.119900</td>\n",
       "      <td>161.598465</td>\n",
       "      <td>72</td>\n",
       "      <td>3601.0</td>\n",
       "    </tr>\n",
       "    <tr>\n",
       "      <th>20</th>\n",
       "      <td>2010</td>\n",
       "      <td>NaN</td>\n",
       "      <td>641.427094</td>\n",
       "      <td>166.096436</td>\n",
       "      <td>71</td>\n",
       "      <td>3726.5</td>\n",
       "    </tr>\n",
       "    <tr>\n",
       "      <th>21</th>\n",
       "      <td>2011</td>\n",
       "      <td>93940.0</td>\n",
       "      <td>679.912720</td>\n",
       "      <td>170.640209</td>\n",
       "      <td>67</td>\n",
       "      <td>3852.0</td>\n",
       "    </tr>\n",
       "    <tr>\n",
       "      <th>22</th>\n",
       "      <td>2012</td>\n",
       "      <td>91738.0</td>\n",
       "      <td>720.707483</td>\n",
       "      <td>175.223117</td>\n",
       "      <td>70</td>\n",
       "      <td>3977.5</td>\n",
       "    </tr>\n",
       "    <tr>\n",
       "      <th>23</th>\n",
       "      <td>2013</td>\n",
       "      <td>NaN</td>\n",
       "      <td>763.949932</td>\n",
       "      <td>179.837716</td>\n",
       "      <td>69</td>\n",
       "      <td>4103.0</td>\n",
       "    </tr>\n",
       "    <tr>\n",
       "      <th>24</th>\n",
       "      <td>2014</td>\n",
       "      <td>98273.0</td>\n",
       "      <td>809.786928</td>\n",
       "      <td>184.475717</td>\n",
       "      <td>68</td>\n",
       "      <td>4228.5</td>\n",
       "    </tr>\n",
       "    <tr>\n",
       "      <th>25</th>\n",
       "      <td>2015</td>\n",
       "      <td>101302.0</td>\n",
       "      <td>858.374144</td>\n",
       "      <td>189.127923</td>\n",
       "      <td>63</td>\n",
       "      <td>4354.0</td>\n",
       "    </tr>\n",
       "    <tr>\n",
       "      <th>26</th>\n",
       "      <td>2016</td>\n",
       "      <td>113812.0</td>\n",
       "      <td>909.876593</td>\n",
       "      <td>193.784161</td>\n",
       "      <td>64</td>\n",
       "      <td>4479.5</td>\n",
       "    </tr>\n",
       "    <tr>\n",
       "      <th>27</th>\n",
       "      <td>2017</td>\n",
       "      <td>109431.0</td>\n",
       "      <td>964.469188</td>\n",
       "      <td>198.433204</td>\n",
       "      <td>62</td>\n",
       "      <td>4605.0</td>\n",
       "    </tr>\n",
       "    <tr>\n",
       "      <th>28</th>\n",
       "      <td>2018</td>\n",
       "      <td>105582.0</td>\n",
       "      <td>1022.337339</td>\n",
       "      <td>203.062689</td>\n",
       "      <td>61</td>\n",
       "      <td>4730.5</td>\n",
       "    </tr>\n",
       "    <tr>\n",
       "      <th>29</th>\n",
       "      <td>2019</td>\n",
       "      <td>116969.0</td>\n",
       "      <td>1083.677580</td>\n",
       "      <td>207.659041</td>\n",
       "      <td>62</td>\n",
       "      <td>4856.0</td>\n",
       "    </tr>\n",
       "    <tr>\n",
       "      <th>30</th>\n",
       "      <td>2020</td>\n",
       "      <td>112635.0</td>\n",
       "      <td>1148.698235</td>\n",
       "      <td>212.207371</td>\n",
       "      <td>59</td>\n",
       "      <td>4981.5</td>\n",
       "    </tr>\n",
       "    <tr>\n",
       "      <th>31</th>\n",
       "      <td>2021</td>\n",
       "      <td>122391.0</td>\n",
       "      <td>1217.620129</td>\n",
       "      <td>216.691386</td>\n",
       "      <td>58</td>\n",
       "      <td>5107.0</td>\n",
       "    </tr>\n",
       "    <tr>\n",
       "      <th>32</th>\n",
       "      <td>2022</td>\n",
       "      <td>121872.0</td>\n",
       "      <td>1290.677336</td>\n",
       "      <td>221.093284</td>\n",
       "      <td>57</td>\n",
       "      <td>5232.5</td>\n",
       "    </tr>\n",
       "  </tbody>\n",
       "</table>\n",
       "</div>"
      ],
      "text/plain": [
       "    Years    Salary   material 1  material 2  demand   price\n",
       "0    1990   39343.0   200.000000   89.600000     103  1200.0\n",
       "1    1991   46205.0   212.000000   92.662500     104  1375.0\n",
       "2    1992   37731.0   224.720000   95.807250     101  1451.0\n",
       "3    1993   43525.0   238.203200   99.034819      99  1593.0\n",
       "4    1994   39891.0   252.495392  102.345626      95  1718.5\n",
       "5    1995   56642.0   267.645116  105.739927      96  1844.0\n",
       "6    1996   60150.0   283.703822  109.217795      95  1969.5\n",
       "7    1997   54445.0   300.726052  112.779099      92  2095.0\n",
       "8    1998   64445.0   318.769615  116.423489      92  2220.5\n",
       "9    1999   57189.0   337.895792  120.150370      87  2346.0\n",
       "10   2000   63218.0   358.169539  123.958881      84  2471.5\n",
       "11   2001   55794.0   379.659712  127.847867      86  2597.0\n",
       "12   2002   56957.0   402.439294  131.815854      87  2722.5\n",
       "13   2003       NaN   426.585652  135.861021      78  2848.0\n",
       "14   2004   57081.0   452.180791  139.981164      79  2973.5\n",
       "15   2005   61111.0   479.311639  144.173669      78  3099.0\n",
       "16   2006   67938.0   508.070337  148.435472      78  3224.5\n",
       "17   2007   66029.0   538.554557  152.763021      71  3350.0\n",
       "18   2008   83088.0   570.867831  157.152236      73  3475.5\n",
       "19   2009   81363.0   605.119900  161.598465      72  3601.0\n",
       "20   2010       NaN   641.427094  166.096436      71  3726.5\n",
       "21   2011   93940.0   679.912720  170.640209      67  3852.0\n",
       "22   2012   91738.0   720.707483  175.223117      70  3977.5\n",
       "23   2013       NaN   763.949932  179.837716      69  4103.0\n",
       "24   2014   98273.0   809.786928  184.475717      68  4228.5\n",
       "25   2015  101302.0   858.374144  189.127923      63  4354.0\n",
       "26   2016  113812.0   909.876593  193.784161      64  4479.5\n",
       "27   2017  109431.0   964.469188  198.433204      62  4605.0\n",
       "28   2018  105582.0  1022.337339  203.062689      61  4730.5\n",
       "29   2019  116969.0  1083.677580  207.659041      62  4856.0\n",
       "30   2020  112635.0  1148.698235  212.207371      59  4981.5\n",
       "31   2021  122391.0  1217.620129  216.691386      58  5107.0\n",
       "32   2022  121872.0  1290.677336  221.093284      57  5232.5"
      ]
     },
     "execution_count": 47,
     "metadata": {},
     "output_type": "execute_result"
    }
   ],
   "source": [
    "df = pd.read_excel('data.xlsx')\n",
    "df"
   ]
  },
  {
   "cell_type": "markdown",
   "id": "a621fe4a",
   "metadata": {},
   "source": [
    "*****1*****"
   ]
  },
  {
   "cell_type": "markdown",
   "id": "2d0c021d",
   "metadata": {
    "pycharm": {
     "name": "#%% md\n"
    }
   },
   "source": [
    "_Show Sum of NAN Data_"
   ]
  },
  {
   "cell_type": "code",
   "execution_count": 48,
   "id": "11a81d05",
   "metadata": {
    "pycharm": {
     "name": "#%%\n"
    },
    "scrolled": true
   },
   "outputs": [
    {
     "data": {
      "text/plain": [
       "Years         0\n",
       "Salary        3\n",
       "material 1    0\n",
       "material 2    0\n",
       "demand        0\n",
       "price         0\n",
       "dtype: int64"
      ]
     },
     "execution_count": 48,
     "metadata": {},
     "output_type": "execute_result"
    }
   ],
   "source": [
    "df.isnull().sum()"
   ]
  },
  {
   "cell_type": "markdown",
   "id": "ad06ab87",
   "metadata": {
    "pycharm": {
     "name": "#%% md\n"
    }
   },
   "source": [
    "We filled NAN values with the previous three lines"
   ]
  },
  {
   "cell_type": "code",
   "execution_count": 49,
   "id": "e1618226",
   "metadata": {
    "pycharm": {
     "name": "#%%\n"
    },
    "scrolled": false
   },
   "outputs": [
    {
     "data": {
      "text/html": [
       "<div>\n",
       "<style scoped>\n",
       "    .dataframe tbody tr th:only-of-type {\n",
       "        vertical-align: middle;\n",
       "    }\n",
       "\n",
       "    .dataframe tbody tr th {\n",
       "        vertical-align: top;\n",
       "    }\n",
       "\n",
       "    .dataframe thead th {\n",
       "        text-align: right;\n",
       "    }\n",
       "</style>\n",
       "<table border=\"1\" class=\"dataframe\">\n",
       "  <thead>\n",
       "    <tr style=\"text-align: right;\">\n",
       "      <th></th>\n",
       "      <th>Years</th>\n",
       "      <th>Salary</th>\n",
       "      <th>material 1</th>\n",
       "      <th>material 2</th>\n",
       "      <th>demand</th>\n",
       "      <th>price</th>\n",
       "    </tr>\n",
       "  </thead>\n",
       "  <tbody>\n",
       "    <tr>\n",
       "      <th>0</th>\n",
       "      <td>1990</td>\n",
       "      <td>39343.0</td>\n",
       "      <td>200.000000</td>\n",
       "      <td>89.600000</td>\n",
       "      <td>103</td>\n",
       "      <td>1200.0</td>\n",
       "    </tr>\n",
       "    <tr>\n",
       "      <th>1</th>\n",
       "      <td>1991</td>\n",
       "      <td>46205.0</td>\n",
       "      <td>212.000000</td>\n",
       "      <td>92.662500</td>\n",
       "      <td>104</td>\n",
       "      <td>1375.0</td>\n",
       "    </tr>\n",
       "    <tr>\n",
       "      <th>2</th>\n",
       "      <td>1992</td>\n",
       "      <td>37731.0</td>\n",
       "      <td>224.720000</td>\n",
       "      <td>95.807250</td>\n",
       "      <td>101</td>\n",
       "      <td>1451.0</td>\n",
       "    </tr>\n",
       "    <tr>\n",
       "      <th>3</th>\n",
       "      <td>1993</td>\n",
       "      <td>43525.0</td>\n",
       "      <td>238.203200</td>\n",
       "      <td>99.034819</td>\n",
       "      <td>99</td>\n",
       "      <td>1593.0</td>\n",
       "    </tr>\n",
       "    <tr>\n",
       "      <th>4</th>\n",
       "      <td>1994</td>\n",
       "      <td>39891.0</td>\n",
       "      <td>252.495392</td>\n",
       "      <td>102.345626</td>\n",
       "      <td>95</td>\n",
       "      <td>1718.5</td>\n",
       "    </tr>\n",
       "    <tr>\n",
       "      <th>5</th>\n",
       "      <td>1995</td>\n",
       "      <td>56642.0</td>\n",
       "      <td>267.645116</td>\n",
       "      <td>105.739927</td>\n",
       "      <td>96</td>\n",
       "      <td>1844.0</td>\n",
       "    </tr>\n",
       "    <tr>\n",
       "      <th>6</th>\n",
       "      <td>1996</td>\n",
       "      <td>60150.0</td>\n",
       "      <td>283.703822</td>\n",
       "      <td>109.217795</td>\n",
       "      <td>95</td>\n",
       "      <td>1969.5</td>\n",
       "    </tr>\n",
       "    <tr>\n",
       "      <th>7</th>\n",
       "      <td>1997</td>\n",
       "      <td>54445.0</td>\n",
       "      <td>300.726052</td>\n",
       "      <td>112.779099</td>\n",
       "      <td>92</td>\n",
       "      <td>2095.0</td>\n",
       "    </tr>\n",
       "    <tr>\n",
       "      <th>8</th>\n",
       "      <td>1998</td>\n",
       "      <td>64445.0</td>\n",
       "      <td>318.769615</td>\n",
       "      <td>116.423489</td>\n",
       "      <td>92</td>\n",
       "      <td>2220.5</td>\n",
       "    </tr>\n",
       "    <tr>\n",
       "      <th>9</th>\n",
       "      <td>1999</td>\n",
       "      <td>57189.0</td>\n",
       "      <td>337.895792</td>\n",
       "      <td>120.150370</td>\n",
       "      <td>87</td>\n",
       "      <td>2346.0</td>\n",
       "    </tr>\n",
       "    <tr>\n",
       "      <th>10</th>\n",
       "      <td>2000</td>\n",
       "      <td>63218.0</td>\n",
       "      <td>358.169539</td>\n",
       "      <td>123.958881</td>\n",
       "      <td>84</td>\n",
       "      <td>2471.5</td>\n",
       "    </tr>\n",
       "    <tr>\n",
       "      <th>11</th>\n",
       "      <td>2001</td>\n",
       "      <td>55794.0</td>\n",
       "      <td>379.659712</td>\n",
       "      <td>127.847867</td>\n",
       "      <td>86</td>\n",
       "      <td>2597.0</td>\n",
       "    </tr>\n",
       "    <tr>\n",
       "      <th>12</th>\n",
       "      <td>2002</td>\n",
       "      <td>56957.0</td>\n",
       "      <td>402.439294</td>\n",
       "      <td>131.815854</td>\n",
       "      <td>87</td>\n",
       "      <td>2722.5</td>\n",
       "    </tr>\n",
       "    <tr>\n",
       "      <th>13</th>\n",
       "      <td>2003</td>\n",
       "      <td>56375.5</td>\n",
       "      <td>426.585652</td>\n",
       "      <td>135.861021</td>\n",
       "      <td>78</td>\n",
       "      <td>2848.0</td>\n",
       "    </tr>\n",
       "    <tr>\n",
       "      <th>14</th>\n",
       "      <td>2004</td>\n",
       "      <td>57081.0</td>\n",
       "      <td>452.180791</td>\n",
       "      <td>139.981164</td>\n",
       "      <td>79</td>\n",
       "      <td>2973.5</td>\n",
       "    </tr>\n",
       "    <tr>\n",
       "      <th>15</th>\n",
       "      <td>2005</td>\n",
       "      <td>61111.0</td>\n",
       "      <td>479.311639</td>\n",
       "      <td>144.173669</td>\n",
       "      <td>78</td>\n",
       "      <td>3099.0</td>\n",
       "    </tr>\n",
       "    <tr>\n",
       "      <th>16</th>\n",
       "      <td>2006</td>\n",
       "      <td>67938.0</td>\n",
       "      <td>508.070337</td>\n",
       "      <td>148.435472</td>\n",
       "      <td>78</td>\n",
       "      <td>3224.5</td>\n",
       "    </tr>\n",
       "    <tr>\n",
       "      <th>17</th>\n",
       "      <td>2007</td>\n",
       "      <td>66029.0</td>\n",
       "      <td>538.554557</td>\n",
       "      <td>152.763021</td>\n",
       "      <td>71</td>\n",
       "      <td>3350.0</td>\n",
       "    </tr>\n",
       "    <tr>\n",
       "      <th>18</th>\n",
       "      <td>2008</td>\n",
       "      <td>83088.0</td>\n",
       "      <td>570.867831</td>\n",
       "      <td>157.152236</td>\n",
       "      <td>73</td>\n",
       "      <td>3475.5</td>\n",
       "    </tr>\n",
       "    <tr>\n",
       "      <th>19</th>\n",
       "      <td>2009</td>\n",
       "      <td>81363.0</td>\n",
       "      <td>605.119900</td>\n",
       "      <td>161.598465</td>\n",
       "      <td>72</td>\n",
       "      <td>3601.0</td>\n",
       "    </tr>\n",
       "    <tr>\n",
       "      <th>20</th>\n",
       "      <td>2010</td>\n",
       "      <td>82225.5</td>\n",
       "      <td>641.427094</td>\n",
       "      <td>166.096436</td>\n",
       "      <td>71</td>\n",
       "      <td>3726.5</td>\n",
       "    </tr>\n",
       "    <tr>\n",
       "      <th>21</th>\n",
       "      <td>2011</td>\n",
       "      <td>93940.0</td>\n",
       "      <td>679.912720</td>\n",
       "      <td>170.640209</td>\n",
       "      <td>67</td>\n",
       "      <td>3852.0</td>\n",
       "    </tr>\n",
       "    <tr>\n",
       "      <th>22</th>\n",
       "      <td>2012</td>\n",
       "      <td>91738.0</td>\n",
       "      <td>720.707483</td>\n",
       "      <td>175.223117</td>\n",
       "      <td>70</td>\n",
       "      <td>3977.5</td>\n",
       "    </tr>\n",
       "    <tr>\n",
       "      <th>23</th>\n",
       "      <td>2013</td>\n",
       "      <td>92839.0</td>\n",
       "      <td>763.949932</td>\n",
       "      <td>179.837716</td>\n",
       "      <td>69</td>\n",
       "      <td>4103.0</td>\n",
       "    </tr>\n",
       "    <tr>\n",
       "      <th>24</th>\n",
       "      <td>2014</td>\n",
       "      <td>98273.0</td>\n",
       "      <td>809.786928</td>\n",
       "      <td>184.475717</td>\n",
       "      <td>68</td>\n",
       "      <td>4228.5</td>\n",
       "    </tr>\n",
       "    <tr>\n",
       "      <th>25</th>\n",
       "      <td>2015</td>\n",
       "      <td>101302.0</td>\n",
       "      <td>858.374144</td>\n",
       "      <td>189.127923</td>\n",
       "      <td>63</td>\n",
       "      <td>4354.0</td>\n",
       "    </tr>\n",
       "    <tr>\n",
       "      <th>26</th>\n",
       "      <td>2016</td>\n",
       "      <td>113812.0</td>\n",
       "      <td>909.876593</td>\n",
       "      <td>193.784161</td>\n",
       "      <td>64</td>\n",
       "      <td>4479.5</td>\n",
       "    </tr>\n",
       "    <tr>\n",
       "      <th>27</th>\n",
       "      <td>2017</td>\n",
       "      <td>109431.0</td>\n",
       "      <td>964.469188</td>\n",
       "      <td>198.433204</td>\n",
       "      <td>62</td>\n",
       "      <td>4605.0</td>\n",
       "    </tr>\n",
       "    <tr>\n",
       "      <th>28</th>\n",
       "      <td>2018</td>\n",
       "      <td>105582.0</td>\n",
       "      <td>1022.337339</td>\n",
       "      <td>203.062689</td>\n",
       "      <td>61</td>\n",
       "      <td>4730.5</td>\n",
       "    </tr>\n",
       "    <tr>\n",
       "      <th>29</th>\n",
       "      <td>2019</td>\n",
       "      <td>116969.0</td>\n",
       "      <td>1083.677580</td>\n",
       "      <td>207.659041</td>\n",
       "      <td>62</td>\n",
       "      <td>4856.0</td>\n",
       "    </tr>\n",
       "    <tr>\n",
       "      <th>30</th>\n",
       "      <td>2020</td>\n",
       "      <td>112635.0</td>\n",
       "      <td>1148.698235</td>\n",
       "      <td>212.207371</td>\n",
       "      <td>59</td>\n",
       "      <td>4981.5</td>\n",
       "    </tr>\n",
       "    <tr>\n",
       "      <th>31</th>\n",
       "      <td>2021</td>\n",
       "      <td>122391.0</td>\n",
       "      <td>1217.620129</td>\n",
       "      <td>216.691386</td>\n",
       "      <td>58</td>\n",
       "      <td>5107.0</td>\n",
       "    </tr>\n",
       "    <tr>\n",
       "      <th>32</th>\n",
       "      <td>2022</td>\n",
       "      <td>121872.0</td>\n",
       "      <td>1290.677336</td>\n",
       "      <td>221.093284</td>\n",
       "      <td>57</td>\n",
       "      <td>5232.5</td>\n",
       "    </tr>\n",
       "  </tbody>\n",
       "</table>\n",
       "</div>"
      ],
      "text/plain": [
       "    Years    Salary   material 1  material 2  demand   price\n",
       "0    1990   39343.0   200.000000   89.600000     103  1200.0\n",
       "1    1991   46205.0   212.000000   92.662500     104  1375.0\n",
       "2    1992   37731.0   224.720000   95.807250     101  1451.0\n",
       "3    1993   43525.0   238.203200   99.034819      99  1593.0\n",
       "4    1994   39891.0   252.495392  102.345626      95  1718.5\n",
       "5    1995   56642.0   267.645116  105.739927      96  1844.0\n",
       "6    1996   60150.0   283.703822  109.217795      95  1969.5\n",
       "7    1997   54445.0   300.726052  112.779099      92  2095.0\n",
       "8    1998   64445.0   318.769615  116.423489      92  2220.5\n",
       "9    1999   57189.0   337.895792  120.150370      87  2346.0\n",
       "10   2000   63218.0   358.169539  123.958881      84  2471.5\n",
       "11   2001   55794.0   379.659712  127.847867      86  2597.0\n",
       "12   2002   56957.0   402.439294  131.815854      87  2722.5\n",
       "13   2003   56375.5   426.585652  135.861021      78  2848.0\n",
       "14   2004   57081.0   452.180791  139.981164      79  2973.5\n",
       "15   2005   61111.0   479.311639  144.173669      78  3099.0\n",
       "16   2006   67938.0   508.070337  148.435472      78  3224.5\n",
       "17   2007   66029.0   538.554557  152.763021      71  3350.0\n",
       "18   2008   83088.0   570.867831  157.152236      73  3475.5\n",
       "19   2009   81363.0   605.119900  161.598465      72  3601.0\n",
       "20   2010   82225.5   641.427094  166.096436      71  3726.5\n",
       "21   2011   93940.0   679.912720  170.640209      67  3852.0\n",
       "22   2012   91738.0   720.707483  175.223117      70  3977.5\n",
       "23   2013   92839.0   763.949932  179.837716      69  4103.0\n",
       "24   2014   98273.0   809.786928  184.475717      68  4228.5\n",
       "25   2015  101302.0   858.374144  189.127923      63  4354.0\n",
       "26   2016  113812.0   909.876593  193.784161      64  4479.5\n",
       "27   2017  109431.0   964.469188  198.433204      62  4605.0\n",
       "28   2018  105582.0  1022.337339  203.062689      61  4730.5\n",
       "29   2019  116969.0  1083.677580  207.659041      62  4856.0\n",
       "30   2020  112635.0  1148.698235  212.207371      59  4981.5\n",
       "31   2021  122391.0  1217.620129  216.691386      58  5107.0\n",
       "32   2022  121872.0  1290.677336  221.093284      57  5232.5"
      ]
     },
     "execution_count": 49,
     "metadata": {},
     "output_type": "execute_result"
    }
   ],
   "source": [
    "df['Salary']= df['Salary'].fillna(df['Salary'].rolling(window=3,min_periods=1).mean())\n",
    "df"
   ]
  },
  {
   "cell_type": "code",
   "execution_count": 50,
   "id": "0eb2ec6f",
   "metadata": {},
   "outputs": [
    {
     "data": {
      "text/plain": [
       "Years         0\n",
       "Salary        0\n",
       "material 1    0\n",
       "material 2    0\n",
       "demand        0\n",
       "price         0\n",
       "dtype: int64"
      ]
     },
     "execution_count": 50,
     "metadata": {},
     "output_type": "execute_result"
    }
   ],
   "source": [
    "df.isnull().sum()"
   ]
  },
  {
   "cell_type": "markdown",
   "id": "c2b6ff9d",
   "metadata": {},
   "source": [
    "***we have used mean method for filling null datas because If we have a strong fluctuation due to certain conditions, other methods (bfill or ffill)cannot estimate the conditions correctly .***\n"
   ]
  },
  {
   "cell_type": "markdown",
   "id": "435c4644",
   "metadata": {},
   "source": [
    "*****2*****\n"
   ]
  },
  {
   "cell_type": "markdown",
   "id": "c610838c",
   "metadata": {
    "pycharm": {
     "name": "#%% md\n"
    }
   },
   "source": [
    "**Import sklearn**\n"
   ]
  },
  {
   "cell_type": "code",
   "execution_count": 51,
   "id": "2ed917cc",
   "metadata": {
    "pycharm": {
     "name": "#%%\n"
    }
   },
   "outputs": [],
   "source": [
    "from sklearn.linear_model import LinearRegression"
   ]
  },
  {
   "cell_type": "markdown",
   "id": "f07393d7",
   "metadata": {
    "pycharm": {
     "name": "#%% md\n"
    }
   },
   "source": [
    "X and Y were determined"
   ]
  },
  {
   "cell_type": "code",
   "execution_count": 52,
   "id": "8468e021",
   "metadata": {
    "pycharm": {
     "name": "#%%\n"
    },
    "scrolled": false
   },
   "outputs": [
    {
     "data": {
      "text/plain": [
       "(array([[1990],\n",
       "        [1991],\n",
       "        [1992],\n",
       "        [1993],\n",
       "        [1994],\n",
       "        [1995],\n",
       "        [1996],\n",
       "        [1997],\n",
       "        [1998],\n",
       "        [1999],\n",
       "        [2000],\n",
       "        [2001],\n",
       "        [2002],\n",
       "        [2003],\n",
       "        [2004],\n",
       "        [2005],\n",
       "        [2006],\n",
       "        [2007],\n",
       "        [2008],\n",
       "        [2009],\n",
       "        [2010],\n",
       "        [2011],\n",
       "        [2012],\n",
       "        [2013],\n",
       "        [2014],\n",
       "        [2015],\n",
       "        [2016],\n",
       "        [2017],\n",
       "        [2018],\n",
       "        [2019],\n",
       "        [2020],\n",
       "        [2021],\n",
       "        [2022]], dtype=int64),\n",
       " array([[ 39343. ],\n",
       "        [ 46205. ],\n",
       "        [ 37731. ],\n",
       "        [ 43525. ],\n",
       "        [ 39891. ],\n",
       "        [ 56642. ],\n",
       "        [ 60150. ],\n",
       "        [ 54445. ],\n",
       "        [ 64445. ],\n",
       "        [ 57189. ],\n",
       "        [ 63218. ],\n",
       "        [ 55794. ],\n",
       "        [ 56957. ],\n",
       "        [ 56375.5],\n",
       "        [ 57081. ],\n",
       "        [ 61111. ],\n",
       "        [ 67938. ],\n",
       "        [ 66029. ],\n",
       "        [ 83088. ],\n",
       "        [ 81363. ],\n",
       "        [ 82225.5],\n",
       "        [ 93940. ],\n",
       "        [ 91738. ],\n",
       "        [ 92839. ],\n",
       "        [ 98273. ],\n",
       "        [101302. ],\n",
       "        [113812. ],\n",
       "        [109431. ],\n",
       "        [105582. ],\n",
       "        [116969. ],\n",
       "        [112635. ],\n",
       "        [122391. ],\n",
       "        [121872. ]]))"
      ]
     },
     "execution_count": 52,
     "metadata": {},
     "output_type": "execute_result"
    }
   ],
   "source": [
    "X = df['Years'].values.reshape(-1,1)\n",
    "Y = df['Salary'].values.reshape(-1,1)\n",
    "X,Y"
   ]
  },
  {
   "cell_type": "code",
   "execution_count": 53,
   "id": "b9d8ae56",
   "metadata": {
    "pycharm": {
     "name": "#%%\n"
    }
   },
   "outputs": [],
   "source": [
    "model = LinearRegression()"
   ]
  },
  {
   "cell_type": "code",
   "execution_count": 54,
   "id": "e1943174",
   "metadata": {
    "pycharm": {
     "name": "#%%\n"
    }
   },
   "outputs": [
    {
     "data": {
      "text/html": [
       "<style>#sk-container-id-3 {color: black;}#sk-container-id-3 pre{padding: 0;}#sk-container-id-3 div.sk-toggleable {background-color: white;}#sk-container-id-3 label.sk-toggleable__label {cursor: pointer;display: block;width: 100%;margin-bottom: 0;padding: 0.3em;box-sizing: border-box;text-align: center;}#sk-container-id-3 label.sk-toggleable__label-arrow:before {content: \"▸\";float: left;margin-right: 0.25em;color: #696969;}#sk-container-id-3 label.sk-toggleable__label-arrow:hover:before {color: black;}#sk-container-id-3 div.sk-estimator:hover label.sk-toggleable__label-arrow:before {color: black;}#sk-container-id-3 div.sk-toggleable__content {max-height: 0;max-width: 0;overflow: hidden;text-align: left;background-color: #f0f8ff;}#sk-container-id-3 div.sk-toggleable__content pre {margin: 0.2em;color: black;border-radius: 0.25em;background-color: #f0f8ff;}#sk-container-id-3 input.sk-toggleable__control:checked~div.sk-toggleable__content {max-height: 200px;max-width: 100%;overflow: auto;}#sk-container-id-3 input.sk-toggleable__control:checked~label.sk-toggleable__label-arrow:before {content: \"▾\";}#sk-container-id-3 div.sk-estimator input.sk-toggleable__control:checked~label.sk-toggleable__label {background-color: #d4ebff;}#sk-container-id-3 div.sk-label input.sk-toggleable__control:checked~label.sk-toggleable__label {background-color: #d4ebff;}#sk-container-id-3 input.sk-hidden--visually {border: 0;clip: rect(1px 1px 1px 1px);clip: rect(1px, 1px, 1px, 1px);height: 1px;margin: -1px;overflow: hidden;padding: 0;position: absolute;width: 1px;}#sk-container-id-3 div.sk-estimator {font-family: monospace;background-color: #f0f8ff;border: 1px dotted black;border-radius: 0.25em;box-sizing: border-box;margin-bottom: 0.5em;}#sk-container-id-3 div.sk-estimator:hover {background-color: #d4ebff;}#sk-container-id-3 div.sk-parallel-item::after {content: \"\";width: 100%;border-bottom: 1px solid gray;flex-grow: 1;}#sk-container-id-3 div.sk-label:hover label.sk-toggleable__label {background-color: #d4ebff;}#sk-container-id-3 div.sk-serial::before {content: \"\";position: absolute;border-left: 1px solid gray;box-sizing: border-box;top: 0;bottom: 0;left: 50%;z-index: 0;}#sk-container-id-3 div.sk-serial {display: flex;flex-direction: column;align-items: center;background-color: white;padding-right: 0.2em;padding-left: 0.2em;position: relative;}#sk-container-id-3 div.sk-item {position: relative;z-index: 1;}#sk-container-id-3 div.sk-parallel {display: flex;align-items: stretch;justify-content: center;background-color: white;position: relative;}#sk-container-id-3 div.sk-item::before, #sk-container-id-3 div.sk-parallel-item::before {content: \"\";position: absolute;border-left: 1px solid gray;box-sizing: border-box;top: 0;bottom: 0;left: 50%;z-index: -1;}#sk-container-id-3 div.sk-parallel-item {display: flex;flex-direction: column;z-index: 1;position: relative;background-color: white;}#sk-container-id-3 div.sk-parallel-item:first-child::after {align-self: flex-end;width: 50%;}#sk-container-id-3 div.sk-parallel-item:last-child::after {align-self: flex-start;width: 50%;}#sk-container-id-3 div.sk-parallel-item:only-child::after {width: 0;}#sk-container-id-3 div.sk-dashed-wrapped {border: 1px dashed gray;margin: 0 0.4em 0.5em 0.4em;box-sizing: border-box;padding-bottom: 0.4em;background-color: white;}#sk-container-id-3 div.sk-label label {font-family: monospace;font-weight: bold;display: inline-block;line-height: 1.2em;}#sk-container-id-3 div.sk-label-container {text-align: center;}#sk-container-id-3 div.sk-container {/* jupyter's `normalize.less` sets `[hidden] { display: none; }` but bootstrap.min.css set `[hidden] { display: none !important; }` so we also need the `!important` here to be able to override the default hidden behavior on the sphinx rendered scikit-learn.org. See: https://github.com/scikit-learn/scikit-learn/issues/21755 */display: inline-block !important;position: relative;}#sk-container-id-3 div.sk-text-repr-fallback {display: none;}</style><div id=\"sk-container-id-3\" class=\"sk-top-container\"><div class=\"sk-text-repr-fallback\"><pre>LinearRegression()</pre><b>In a Jupyter environment, please rerun this cell to show the HTML representation or trust the notebook. <br />On GitHub, the HTML representation is unable to render, please try loading this page with nbviewer.org.</b></div><div class=\"sk-container\" hidden><div class=\"sk-item\"><div class=\"sk-estimator sk-toggleable\"><input class=\"sk-toggleable__control sk-hidden--visually\" id=\"sk-estimator-id-3\" type=\"checkbox\" checked><label for=\"sk-estimator-id-3\" class=\"sk-toggleable__label sk-toggleable__label-arrow\">LinearRegression</label><div class=\"sk-toggleable__content\"><pre>LinearRegression()</pre></div></div></div></div></div>"
      ],
      "text/plain": [
       "LinearRegression()"
      ]
     },
     "execution_count": 54,
     "metadata": {},
     "output_type": "execute_result"
    }
   ],
   "source": [
    "model.fit(X,Y)"
   ]
  },
  {
   "cell_type": "markdown",
   "id": "cd90cad5",
   "metadata": {
    "pycharm": {
     "name": "#%% md\n"
    }
   },
   "source": [
    "Get the intercept and the coefficient"
   ]
  },
  {
   "cell_type": "code",
   "execution_count": 55,
   "id": "6d02c954",
   "metadata": {
    "pycharm": {
     "name": "#%%\n"
    }
   },
   "outputs": [],
   "source": [
    "intercept = model.intercept_[0]\n",
    "coefficient = model.coef_[0][0]"
   ]
  },
  {
   "cell_type": "code",
   "execution_count": 56,
   "id": "4ef1532f",
   "metadata": {
    "pycharm": {
     "name": "#%%\n"
    }
   },
   "outputs": [
    {
     "data": {
      "text/plain": [
       "-5226503.615530303"
      ]
     },
     "execution_count": 56,
     "metadata": {},
     "output_type": "execute_result"
    }
   ],
   "source": [
    "intercept"
   ]
  },
  {
   "cell_type": "code",
   "execution_count": 57,
   "id": "b473b34d",
   "metadata": {
    "pycharm": {
     "name": "#%%\n"
    }
   },
   "outputs": [
    {
     "data": {
      "text/plain": [
       "2643.3751671122996"
      ]
     },
     "execution_count": 57,
     "metadata": {},
     "output_type": "execute_result"
    }
   ],
   "source": [
    "coefficient"
   ]
  },
  {
   "cell_type": "markdown",
   "id": "673fc6d0",
   "metadata": {
    "pycharm": {
     "name": "#%% md\n"
    }
   },
   "source": [
    "Defining Regression function"
   ]
  },
  {
   "cell_type": "code",
   "execution_count": 58,
   "id": "814a38a0",
   "metadata": {
    "pycharm": {
     "name": "#%%\n"
    }
   },
   "outputs": [],
   "source": [
    "def predict(x):\n",
    "    return intercept + coefficient * x"
   ]
  },
  {
   "cell_type": "markdown",
   "id": "bec7b734",
   "metadata": {
    "pycharm": {
     "name": "#%% md\n"
    }
   },
   "source": [
    "**2023**\n"
   ]
  },
  {
   "cell_type": "code",
   "execution_count": 59,
   "id": "dc9af105",
   "metadata": {
    "pycharm": {
     "name": "#%%\n"
    }
   },
   "outputs": [
    {
     "data": {
      "text/plain": [
       "[(2023, 121044.3475378789),\n",
       " (2024, 123687.7227049917),\n",
       " (2025, 126331.09787210356),\n",
       " (2026, 128974.47303921636),\n",
       " (2027, 131617.84820632823),\n",
       " (2028, 134261.22337344103),\n",
       " (2029, 136904.5985405529),\n",
       " (2030, 139547.9737076657)]"
      ]
     },
     "execution_count": 59,
     "metadata": {},
     "output_type": "execute_result"
    }
   ],
   "source": [
    "predicted_list=[]\n",
    "for i in range(2023,2031):\n",
    "    predicted_list.append((i,predict(i)))\n",
    "predicted_list"
   ]
  },
  {
   "cell_type": "markdown",
   "metadata": {
    "pycharm": {
     "name": "#%% md\n"
    }
   },
   "source": [
    "**Import matplotlib**"
   ]
  },
  {
   "cell_type": "code",
   "execution_count": 60,
   "metadata": {
    "pycharm": {
     "name": "#%%\n"
    }
   },
   "outputs": [],
   "source": [
    "import matplotlib.pylab as plt"
   ]
  },
  {
   "cell_type": "markdown",
   "metadata": {
    "pycharm": {
     "name": "#%% md\n"
    }
   },
   "source": [
    "**3**)Draw dot chart"
   ]
  },
  {
   "cell_type": "markdown",
   "metadata": {
    "pycharm": {
     "name": "#%% md\n"
    }
   },
   "source": [
    "Draw dot chart and linear regression chart and compare them"
   ]
  },
  {
   "cell_type": "code",
   "execution_count": 61,
   "metadata": {
    "pycharm": {
     "name": "#%%\n"
    }
   },
   "outputs": [
    {
     "data": {
      "image/png": "[encoded data removed]",
      "text/plain": [
       "<Figure size 640x480 with 1 Axes>"
      ]
     },
     "metadata": {},
     "output_type": "display_data"
    }
   ],
   "source": [
    "plt.scatter(df['Years'],df['Salary'])\n",
    "plt.plot(df['Years'],model.predict(X),c = 'red')\n",
    "plt.show()"
   ]
  },
  {
   "cell_type": "markdown",
   "metadata": {
    "pycharm": {
     "name": "#%% md\n"
    }
   },
   "source": [
    "The accuracy coefficient was obtained"
   ]
  },
  {
   "cell_type": "code",
   "execution_count": 62,
   "metadata": {
    "pycharm": {
     "name": "#%%\n"
    }
   },
   "outputs": [
    {
     "data": {
      "text/plain": [
       "0.9290893796805337"
      ]
     },
     "execution_count": 62,
     "metadata": {},
     "output_type": "execute_result"
    }
   ],
   "source": [
    "score = model.score(X,Y)\n",
    "score"
   ]
  },
  {
   "cell_type": "markdown",
   "metadata": {
    "pycharm": {
     "name": "#%% md\n"
    }
   },
   "source": [
    "4)"
   ]
  },
  {
   "cell_type": "code",
   "execution_count": 63,
   "metadata": {
    "pycharm": {
     "name": "#%%\n"
    }
   },
   "outputs": [],
   "source": [
    "def POM1(i,n,P):\n",
    "    F = P * (1 + i) ** n\n",
    "    return F\n",
    "    "
   ]
  },
  {
   "cell_type": "markdown",
   "metadata": {
    "pycharm": {
     "name": "#%% md\n"
    }
   },
   "source": [
    "**Price of material1 in 2023-2030**"
   ]
  },
  {
   "cell_type": "code",
   "execution_count": 64,
   "metadata": {
    "pycharm": {
     "name": "#%%\n"
    }
   },
   "outputs": [
    {
     "name": "stdout",
     "output_type": "stream",
     "text": [
      "2023 : 1368.1179765596917\n",
      "2024 : 1450.2050551532734\n",
      "2025 : 1537.21735846247\n",
      "2026 : 1629.4503999702179\n",
      "2027 : 1727.2174239684311\n",
      "2028 : 1830.8504694065373\n",
      "2029 : 1940.7014975709294\n"
     ]
    }
   ],
   "source": [
    "i = 0.05 + 0.01\n",
    "for m in range(2023,2030):\n",
    "    n=m-df.iloc[0,0]\n",
    "    p = df.iloc[0,2]\n",
    "    print(f'{m} : {POM1(i,n,p)}')"
   ]
  },
  {
   "cell_type": "markdown",
   "id": "cc90184d",
   "metadata": {},
   "source": [
    "*****5)*****\n"
   ]
  },
  {
   "cell_type": "code",
   "execution_count": 65,
   "id": "bc553242",
   "metadata": {},
   "outputs": [],
   "source": [
    "def fp_formula(value, n):\n",
    "    return value / (1 + 0.05)**n"
   ]
  },
  {
   "cell_type": "code",
   "execution_count": 66,
   "id": "7ac3a546",
   "metadata": {},
   "outputs": [
    {
     "name": "stdout",
     "output_type": "stream",
     "text": [
      "    Years    Salary   material 1  material 2  demand   price   n      P\n",
      "0    1990   39343.0   200.000000   89.600000     103  1200.0   0  89.60\n",
      "1    1991   46205.0   212.000000   92.662500     104  1375.0   1  88.25\n",
      "2    1992   37731.0   224.720000   95.807250     101  1451.0   2  86.90\n",
      "3    1993   43525.0   238.203200   99.034819      99  1593.0   3  85.55\n",
      "4    1994   39891.0   252.495392  102.345626      95  1718.5   4  84.20\n",
      "5    1995   56642.0   267.645116  105.739927      96  1844.0   5  82.85\n",
      "6    1996   60150.0   283.703822  109.217795      95  1969.5   6  81.50\n",
      "7    1997   54445.0   300.726052  112.779099      92  2095.0   7  80.15\n",
      "8    1998   64445.0   318.769615  116.423489      92  2220.5   8  78.80\n",
      "9    1999   57189.0   337.895792  120.150370      87  2346.0   9  77.45\n",
      "10   2000   63218.0   358.169539  123.958881      84  2471.5  10  76.10\n",
      "11   2001   55794.0   379.659712  127.847867      86  2597.0  11  74.75\n",
      "12   2002   56957.0   402.439294  131.815854      87  2722.5  12  73.40\n",
      "13   2003   56375.5   426.585652  135.861021      78  2848.0  13  72.05\n",
      "14   2004   57081.0   452.180791  139.981164      79  2973.5  14  70.70\n",
      "15   2005   61111.0   479.311639  144.173669      78  3099.0  15  69.35\n",
      "16   2006   67938.0   508.070337  148.435472      78  3224.5  16  68.00\n",
      "17   2007   66029.0   538.554557  152.763021      71  3350.0  17  66.65\n",
      "18   2008   83088.0   570.867831  157.152236      73  3475.5  18  65.30\n",
      "19   2009   81363.0   605.119900  161.598465      72  3601.0  19  63.95\n",
      "20   2010   82225.5   641.427094  166.096436      71  3726.5  20  62.60\n",
      "21   2011   93940.0   679.912720  170.640209      67  3852.0  21  61.25\n",
      "22   2012   91738.0   720.707483  175.223117      70  3977.5  22  59.90\n",
      "23   2013   92839.0   763.949932  179.837716      69  4103.0  23  58.55\n",
      "24   2014   98273.0   809.786928  184.475717      68  4228.5  24  57.20\n",
      "25   2015  101302.0   858.374144  189.127923      63  4354.0  25  55.85\n",
      "26   2016  113812.0   909.876593  193.784161      64  4479.5  26  54.50\n",
      "27   2017  109431.0   964.469188  198.433204      62  4605.0  27  53.15\n",
      "28   2018  105582.0  1022.337339  203.062689      61  4730.5  28  51.80\n",
      "29   2019  116969.0  1083.677580  207.659041      62  4856.0  29  50.45\n",
      "30   2020  112635.0  1148.698235  212.207371      59  4981.5  30  49.10\n",
      "31   2021  122391.0  1217.620129  216.691386      58  5107.0  31  47.75\n",
      "32   2022  121872.0  1290.677336  221.093284      57  5232.5  32  46.40\n"
     ]
    }
   ],
   "source": [
    "df['n'] = df['Years']-1990\n",
    "\n",
    "df['P'] = df.apply(lambda row: fp_formula(row['material 2'], row['n']), axis=1)\n",
    "print(df)"
   ]
  },
  {
   "cell_type": "code",
   "execution_count": 67,
   "id": "6cc8a9ed",
   "metadata": {},
   "outputs": [],
   "source": [
    "model = LinearRegression()"
   ]
  },
  {
   "cell_type": "code",
   "execution_count": 68,
   "id": "dc8ef9b8",
   "metadata": {},
   "outputs": [
    {
     "data": {
      "text/html": [
       "<style>#sk-container-id-4 {color: black;}#sk-container-id-4 pre{padding: 0;}#sk-container-id-4 div.sk-toggleable {background-color: white;}#sk-container-id-4 label.sk-toggleable__label {cursor: pointer;display: block;width: 100%;margin-bottom: 0;padding: 0.3em;box-sizing: border-box;text-align: center;}#sk-container-id-4 label.sk-toggleable__label-arrow:before {content: \"▸\";float: left;margin-right: 0.25em;color: #696969;}#sk-container-id-4 label.sk-toggleable__label-arrow:hover:before {color: black;}#sk-container-id-4 div.sk-estimator:hover label.sk-toggleable__label-arrow:before {color: black;}#sk-container-id-4 div.sk-toggleable__content {max-height: 0;max-width: 0;overflow: hidden;text-align: left;background-color: #f0f8ff;}#sk-container-id-4 div.sk-toggleable__content pre {margin: 0.2em;color: black;border-radius: 0.25em;background-color: #f0f8ff;}#sk-container-id-4 input.sk-toggleable__control:checked~div.sk-toggleable__content {max-height: 200px;max-width: 100%;overflow: auto;}#sk-container-id-4 input.sk-toggleable__control:checked~label.sk-toggleable__label-arrow:before {content: \"▾\";}#sk-container-id-4 div.sk-estimator input.sk-toggleable__control:checked~label.sk-toggleable__label {background-color: #d4ebff;}#sk-container-id-4 div.sk-label input.sk-toggleable__control:checked~label.sk-toggleable__label {background-color: #d4ebff;}#sk-container-id-4 input.sk-hidden--visually {border: 0;clip: rect(1px 1px 1px 1px);clip: rect(1px, 1px, 1px, 1px);height: 1px;margin: -1px;overflow: hidden;padding: 0;position: absolute;width: 1px;}#sk-container-id-4 div.sk-estimator {font-family: monospace;background-color: #f0f8ff;border: 1px dotted black;border-radius: 0.25em;box-sizing: border-box;margin-bottom: 0.5em;}#sk-container-id-4 div.sk-estimator:hover {background-color: #d4ebff;}#sk-container-id-4 div.sk-parallel-item::after {content: \"\";width: 100%;border-bottom: 1px solid gray;flex-grow: 1;}#sk-container-id-4 div.sk-label:hover label.sk-toggleable__label {background-color: #d4ebff;}#sk-container-id-4 div.sk-serial::before {content: \"\";position: absolute;border-left: 1px solid gray;box-sizing: border-box;top: 0;bottom: 0;left: 50%;z-index: 0;}#sk-container-id-4 div.sk-serial {display: flex;flex-direction: column;align-items: center;background-color: white;padding-right: 0.2em;padding-left: 0.2em;position: relative;}#sk-container-id-4 div.sk-item {position: relative;z-index: 1;}#sk-container-id-4 div.sk-parallel {display: flex;align-items: stretch;justify-content: center;background-color: white;position: relative;}#sk-container-id-4 div.sk-item::before, #sk-container-id-4 div.sk-parallel-item::before {content: \"\";position: absolute;border-left: 1px solid gray;box-sizing: border-box;top: 0;bottom: 0;left: 50%;z-index: -1;}#sk-container-id-4 div.sk-parallel-item {display: flex;flex-direction: column;z-index: 1;position: relative;background-color: white;}#sk-container-id-4 div.sk-parallel-item:first-child::after {align-self: flex-end;width: 50%;}#sk-container-id-4 div.sk-parallel-item:last-child::after {align-self: flex-start;width: 50%;}#sk-container-id-4 div.sk-parallel-item:only-child::after {width: 0;}#sk-container-id-4 div.sk-dashed-wrapped {border: 1px dashed gray;margin: 0 0.4em 0.5em 0.4em;box-sizing: border-box;padding-bottom: 0.4em;background-color: white;}#sk-container-id-4 div.sk-label label {font-family: monospace;font-weight: bold;display: inline-block;line-height: 1.2em;}#sk-container-id-4 div.sk-label-container {text-align: center;}#sk-container-id-4 div.sk-container {/* jupyter's `normalize.less` sets `[hidden] { display: none; }` but bootstrap.min.css set `[hidden] { display: none !important; }` so we also need the `!important` here to be able to override the default hidden behavior on the sphinx rendered scikit-learn.org. See: https://github.com/scikit-learn/scikit-learn/issues/21755 */display: inline-block !important;position: relative;}#sk-container-id-4 div.sk-text-repr-fallback {display: none;}</style><div id=\"sk-container-id-4\" class=\"sk-top-container\"><div class=\"sk-text-repr-fallback\"><pre>LinearRegression()</pre><b>In a Jupyter environment, please rerun this cell to show the HTML representation or trust the notebook. <br />On GitHub, the HTML representation is unable to render, please try loading this page with nbviewer.org.</b></div><div class=\"sk-container\" hidden><div class=\"sk-item\"><div class=\"sk-estimator sk-toggleable\"><input class=\"sk-toggleable__control sk-hidden--visually\" id=\"sk-estimator-id-4\" type=\"checkbox\" checked><label for=\"sk-estimator-id-4\" class=\"sk-toggleable__label sk-toggleable__label-arrow\">LinearRegression</label><div class=\"sk-toggleable__content\"><pre>LinearRegression()</pre></div></div></div></div></div>"
      ],
      "text/plain": [
       "LinearRegression()"
      ]
     },
     "execution_count": 68,
     "metadata": {},
     "output_type": "execute_result"
    }
   ],
   "source": [
    "X = df['Years'].values.reshape(-1,1)\n",
    "Y = df['P'].values.reshape(-1,1)\n",
    "model.fit(X,Y)"
   ]
  },
  {
   "cell_type": "code",
   "execution_count": 69,
   "id": "ea250e39",
   "metadata": {},
   "outputs": [],
   "source": [
    "intercept = model.intercept_[0]\n",
    "coefficient = model.coef_[0][0]"
   ]
  },
  {
   "cell_type": "code",
   "execution_count": 70,
   "id": "e62855d8",
   "metadata": {},
   "outputs": [
    {
     "data": {
      "text/plain": [
       "[(1990, 89.59999999999991),\n",
       " (1991, 88.25),\n",
       " (1992, 86.90000000000009),\n",
       " (1993, 85.54999999999973),\n",
       " (1994, 84.19999999999982),\n",
       " (1995, 82.84999999999991),\n",
       " (1996, 81.5),\n",
       " (1997, 80.15000000000009),\n",
       " (1998, 78.79999999999973),\n",
       " (1999, 77.44999999999982),\n",
       " (2000, 76.09999999999991),\n",
       " (2001, 74.75),\n",
       " (2002, 73.40000000000009),\n",
       " (2003, 72.04999999999973),\n",
       " (2004, 70.69999999999982),\n",
       " (2005, 69.34999999999991),\n",
       " (2006, 68.0),\n",
       " (2007, 66.64999999999964),\n",
       " (2008, 65.29999999999973),\n",
       " (2009, 63.94999999999982),\n",
       " (2010, 62.59999999999991),\n",
       " (2011, 61.25),\n",
       " (2012, 59.899999999999636),\n",
       " (2013, 58.54999999999973),\n",
       " (2014, 57.19999999999982),\n",
       " (2015, 55.84999999999991),\n",
       " (2016, 54.5),\n",
       " (2017, 53.149999999999636),\n",
       " (2018, 51.79999999999973),\n",
       " (2019, 50.44999999999982),\n",
       " (2020, 49.09999999999991),\n",
       " (2021, 47.75),\n",
       " (2022, 46.399999999999636)]"
      ]
     },
     "execution_count": 70,
     "metadata": {},
     "output_type": "execute_result"
    }
   ],
   "source": [
    "predicted_list=[]\n",
    "for i in range(1990,2023):\n",
    "    predicted_list.append((i,predict(i)))\n",
    "predicted_list"
   ]
  },
  {
   "cell_type": "code",
   "execution_count": 71,
   "id": "ba4fc37a",
   "metadata": {},
   "outputs": [
    {
     "data": {
      "image/png": "[encoded data removed]",
      "text/plain": [
       "<Figure size 640x480 with 1 Axes>"
      ]
     },
     "metadata": {},
     "output_type": "display_data"
    }
   ],
   "source": [
    "plt.scatter(df['Years'],df['P'],c='blue')\n",
    "plt.plot(df['Years'],model.predict(X),c = 'red')\n",
    "plt.show()"
   ]
  },
  {
   "cell_type": "markdown",
   "id": "0d16a782",
   "metadata": {},
   "source": [
    "*****6)*****"
   ]
  },
  {
   "cell_type": "code",
   "execution_count": 72,
   "id": "7a74fa66",
   "metadata": {},
   "outputs": [],
   "source": [
    "def efactor(n):\n",
    "    return 2.71828183**(-n/50)"
   ]
  },
  {
   "cell_type": "code",
   "execution_count": 73,
   "id": "34802ea5",
   "metadata": {},
   "outputs": [
    {
     "data": {
      "text/plain": [
       "[(1990, 1.0),\n",
       " (1991, 0.9801986732956421),\n",
       " (1992, 0.9607894391305369),\n",
       " (1993, 0.9417645335522163),\n",
       " (1994, 0.9231163463447717),\n",
       " (1995, 0.9048374179846657),\n",
       " (1996, 0.8869204366568236),\n",
       " (1997, 0.86935823532981),\n",
       " (1998, 0.8521437888889205),\n",
       " (1999, 0.8352702113260415),\n",
       " (2000, 0.8187307529851565),\n",
       " (2001, 0.8025187978623924),\n",
       " (2002, 0.7866278609595307),\n",
       " (2003, 0.7710515856899208),\n",
       " (2004, 0.7557837413357614),\n",
       " (2005, 0.7408182205557301),\n",
       " (2006, 0.726149036941965),\n",
       " (2007, 0.7117703226254223),\n",
       " (2008, 0.6976763259286501),\n",
       " (2009, 0.6838614090650408),\n",
       " (2010, 0.6703200458836414),\n",
       " (2011, 0.6570468196586192),\n",
       " (2012, 0.6440364209224996),\n",
       " (2013, 0.6312836453423077),\n",
       " (2014, 0.6187833916377667),\n",
       " (2015, 0.6065306595407167),\n",
       " (2016, 0.5945205477949412),\n",
       " (2017, 0.5827482521955998),\n",
       " (2018, 0.5712090636674811),\n",
       " (2019, 0.5598983663813111),\n",
       " (2020, 0.5488116359073584),\n",
       " (2021, 0.5379444374056037),\n",
       " (2022, 0.5272924238517432),\n",
       " (2023, 0.5168513342983222),\n",
       " (2024, 0.5066169921702978),\n",
       " (2025, 0.4965853035943546),\n",
       " (2026, 0.48675225576130005),\n",
       " (2027, 0.4771139153208873),\n",
       " (2028, 0.4676664268084231),\n",
       " (2029, 0.4584060111025298),\n",
       " (2030, 0.44932896391344707),\n",
       " (2031, 0.4404316543012663),\n",
       " (2032, 0.4317105232235061),\n",
       " (2033, 0.4231620821114482),\n",
       " (2034, 0.41478291147466306),\n",
       " (2035, 0.4065696595331685),\n",
       " (2036, 0.3985190408766726),\n",
       " (2037, 0.3906278351503663),\n",
       " (2038, 0.38289288576673786),\n",
       " (2039, 0.37531109864289625),\n",
       " (2040, 0.36787944096289676),\n",
       " (2041, 0.3605949399645739),\n",
       " (2042, 0.353454681750397),\n",
       " (2043, 0.34645581012187254),\n",
       " (2044, 0.33959552543702637),\n",
       " (2045, 0.3328710834905097),\n",
       " (2046, 0.32627979441588056),\n",
       " (2047, 0.319819021609621),\n",
       " (2048, 0.3134861806764608),\n",
       " (2049, 0.30727873839558484),\n",
       " (2050, 0.3011942117073109)]"
      ]
     },
     "execution_count": 73,
     "metadata": {},
     "output_type": "execute_result"
    }
   ],
   "source": [
    "demand=[]\n",
    "for i in range(1990,2051):\n",
    "    demand.append((i,efactor(i-1990)))\n",
    "demand"
   ]
  }
 ],
 "metadata": {
  "kernelspec": {
   "display_name": "Python 3",
   "language": "python",
   "name": "python3"
  },
  "language_info": {
   "codemirror_mode": {
    "name": "ipython",
    "version": 3
   },
   "file_extension": ".py",
   "mimetype": "text/x-python",
   "name": "python",
   "nbconvert_exporter": "python",
   "pygments_lexer": "ipython3",
   "version": "3.11.4"
  }
 },
 "nbformat": 4,
 "nbformat_minor": 5
}
