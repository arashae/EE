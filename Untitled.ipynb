{
 "cells": [
  {
   "cell_type": "markdown",
   "id": "da0366eb",
   "metadata": {
    "pycharm": {
     "name": "#%% md\n"
    }
   },
   "source": [
    "کتابخانه پانداس و نامپای را فراخوانی می‌کنیم"
   ]
  },
  {
   "cell_type": "code",
   "execution_count": 160,
   "id": "705e15cf",
   "metadata": {
    "pycharm": {
     "name": "#%%\n"
    }
   },
   "outputs": [],
   "source": [
    "import pandas as pd\n",
    "import numpy as np"
   ]
  },
  {
   "cell_type": "markdown",
   "id": "e54d04fa",
   "metadata": {
    "pycharm": {
     "name": "#%% md\n"
    }
   },
   "source": [
    "دیتا های داخل اکسل را فراخوانی می‌کنیم"
   ]
  },
  {
   "cell_type": "code",
   "execution_count": 161,
   "id": "bf6382f9",
   "metadata": {
    "pycharm": {
     "name": "#%%\n"
    },
    "scrolled": true
   },
   "outputs": [
    {
     "data": {
      "text/html": [
       "<div>\n",
       "<style scoped>\n",
       "    .dataframe tbody tr th:only-of-type {\n",
       "        vertical-align: middle;\n",
       "    }\n",
       "\n",
       "    .dataframe tbody tr th {\n",
       "        vertical-align: top;\n",
       "    }\n",
       "\n",
       "    .dataframe thead th {\n",
       "        text-align: right;\n",
       "    }\n",
       "</style>\n",
       "<table border=\"1\" class=\"dataframe\">\n",
       "  <thead>\n",
       "    <tr style=\"text-align: right;\">\n",
       "      <th></th>\n",
       "      <th>Years</th>\n",
       "      <th>Salary</th>\n",
       "      <th>material 1</th>\n",
       "      <th>material 2</th>\n",
       "      <th>demand</th>\n",
       "      <th>price</th>\n",
       "    </tr>\n",
       "  </thead>\n",
       "  <tbody>\n",
       "    <tr>\n",
       "      <th>0</th>\n",
       "      <td>1990</td>\n",
       "      <td>39343.0</td>\n",
       "      <td>200.000000</td>\n",
       "      <td>89.600000</td>\n",
       "      <td>103</td>\n",
       "      <td>1200.0</td>\n",
       "    </tr>\n",
       "    <tr>\n",
       "      <th>1</th>\n",
       "      <td>1991</td>\n",
       "      <td>46205.0</td>\n",
       "      <td>212.000000</td>\n",
       "      <td>92.662500</td>\n",
       "      <td>104</td>\n",
       "      <td>1375.0</td>\n",
       "    </tr>\n",
       "    <tr>\n",
       "      <th>2</th>\n",
       "      <td>1992</td>\n",
       "      <td>37731.0</td>\n",
       "      <td>224.720000</td>\n",
       "      <td>95.807250</td>\n",
       "      <td>101</td>\n",
       "      <td>1451.0</td>\n",
       "    </tr>\n",
       "    <tr>\n",
       "      <th>3</th>\n",
       "      <td>1993</td>\n",
       "      <td>43525.0</td>\n",
       "      <td>238.203200</td>\n",
       "      <td>99.034819</td>\n",
       "      <td>99</td>\n",
       "      <td>1593.0</td>\n",
       "    </tr>\n",
       "    <tr>\n",
       "      <th>4</th>\n",
       "      <td>1994</td>\n",
       "      <td>39891.0</td>\n",
       "      <td>252.495392</td>\n",
       "      <td>102.345626</td>\n",
       "      <td>95</td>\n",
       "      <td>1718.5</td>\n",
       "    </tr>\n",
       "    <tr>\n",
       "      <th>5</th>\n",
       "      <td>1995</td>\n",
       "      <td>56642.0</td>\n",
       "      <td>267.645116</td>\n",
       "      <td>105.739927</td>\n",
       "      <td>96</td>\n",
       "      <td>1844.0</td>\n",
       "    </tr>\n",
       "    <tr>\n",
       "      <th>6</th>\n",
       "      <td>1996</td>\n",
       "      <td>60150.0</td>\n",
       "      <td>283.703822</td>\n",
       "      <td>109.217795</td>\n",
       "      <td>95</td>\n",
       "      <td>1969.5</td>\n",
       "    </tr>\n",
       "    <tr>\n",
       "      <th>7</th>\n",
       "      <td>1997</td>\n",
       "      <td>54445.0</td>\n",
       "      <td>300.726052</td>\n",
       "      <td>112.779099</td>\n",
       "      <td>92</td>\n",
       "      <td>2095.0</td>\n",
       "    </tr>\n",
       "    <tr>\n",
       "      <th>8</th>\n",
       "      <td>1998</td>\n",
       "      <td>64445.0</td>\n",
       "      <td>318.769615</td>\n",
       "      <td>116.423489</td>\n",
       "      <td>92</td>\n",
       "      <td>2220.5</td>\n",
       "    </tr>\n",
       "    <tr>\n",
       "      <th>9</th>\n",
       "      <td>1999</td>\n",
       "      <td>57189.0</td>\n",
       "      <td>337.895792</td>\n",
       "      <td>120.150370</td>\n",
       "      <td>87</td>\n",
       "      <td>2346.0</td>\n",
       "    </tr>\n",
       "    <tr>\n",
       "      <th>10</th>\n",
       "      <td>2000</td>\n",
       "      <td>63218.0</td>\n",
       "      <td>358.169539</td>\n",
       "      <td>123.958881</td>\n",
       "      <td>84</td>\n",
       "      <td>2471.5</td>\n",
       "    </tr>\n",
       "    <tr>\n",
       "      <th>11</th>\n",
       "      <td>2001</td>\n",
       "      <td>55794.0</td>\n",
       "      <td>379.659712</td>\n",
       "      <td>127.847867</td>\n",
       "      <td>86</td>\n",
       "      <td>2597.0</td>\n",
       "    </tr>\n",
       "    <tr>\n",
       "      <th>12</th>\n",
       "      <td>2002</td>\n",
       "      <td>56957.0</td>\n",
       "      <td>402.439294</td>\n",
       "      <td>131.815854</td>\n",
       "      <td>87</td>\n",
       "      <td>2722.5</td>\n",
       "    </tr>\n",
       "    <tr>\n",
       "      <th>13</th>\n",
       "      <td>2003</td>\n",
       "      <td>57019.0</td>\n",
       "      <td>426.585652</td>\n",
       "      <td>135.861021</td>\n",
       "      <td>78</td>\n",
       "      <td>2848.0</td>\n",
       "    </tr>\n",
       "    <tr>\n",
       "      <th>14</th>\n",
       "      <td>2004</td>\n",
       "      <td>57081.0</td>\n",
       "      <td>452.180791</td>\n",
       "      <td>139.981164</td>\n",
       "      <td>79</td>\n",
       "      <td>2973.5</td>\n",
       "    </tr>\n",
       "    <tr>\n",
       "      <th>15</th>\n",
       "      <td>2005</td>\n",
       "      <td>61111.0</td>\n",
       "      <td>479.311639</td>\n",
       "      <td>144.173669</td>\n",
       "      <td>78</td>\n",
       "      <td>3099.0</td>\n",
       "    </tr>\n",
       "    <tr>\n",
       "      <th>16</th>\n",
       "      <td>2006</td>\n",
       "      <td>67938.0</td>\n",
       "      <td>508.070337</td>\n",
       "      <td>148.435472</td>\n",
       "      <td>78</td>\n",
       "      <td>3224.5</td>\n",
       "    </tr>\n",
       "    <tr>\n",
       "      <th>17</th>\n",
       "      <td>2007</td>\n",
       "      <td>66029.0</td>\n",
       "      <td>538.554557</td>\n",
       "      <td>152.763021</td>\n",
       "      <td>71</td>\n",
       "      <td>3350.0</td>\n",
       "    </tr>\n",
       "    <tr>\n",
       "      <th>18</th>\n",
       "      <td>2008</td>\n",
       "      <td>83088.0</td>\n",
       "      <td>570.867831</td>\n",
       "      <td>157.152236</td>\n",
       "      <td>73</td>\n",
       "      <td>3475.5</td>\n",
       "    </tr>\n",
       "    <tr>\n",
       "      <th>19</th>\n",
       "      <td>2009</td>\n",
       "      <td>81363.0</td>\n",
       "      <td>605.119900</td>\n",
       "      <td>161.598465</td>\n",
       "      <td>72</td>\n",
       "      <td>3601.0</td>\n",
       "    </tr>\n",
       "    <tr>\n",
       "      <th>20</th>\n",
       "      <td>2010</td>\n",
       "      <td>87651.5</td>\n",
       "      <td>641.427094</td>\n",
       "      <td>166.096436</td>\n",
       "      <td>71</td>\n",
       "      <td>3726.5</td>\n",
       "    </tr>\n",
       "    <tr>\n",
       "      <th>21</th>\n",
       "      <td>2011</td>\n",
       "      <td>93940.0</td>\n",
       "      <td>679.912720</td>\n",
       "      <td>170.640209</td>\n",
       "      <td>67</td>\n",
       "      <td>3852.0</td>\n",
       "    </tr>\n",
       "    <tr>\n",
       "      <th>22</th>\n",
       "      <td>2012</td>\n",
       "      <td>91738.0</td>\n",
       "      <td>720.707483</td>\n",
       "      <td>175.223117</td>\n",
       "      <td>70</td>\n",
       "      <td>3977.5</td>\n",
       "    </tr>\n",
       "    <tr>\n",
       "      <th>23</th>\n",
       "      <td>2013</td>\n",
       "      <td>95005.5</td>\n",
       "      <td>763.949932</td>\n",
       "      <td>179.837716</td>\n",
       "      <td>69</td>\n",
       "      <td>4103.0</td>\n",
       "    </tr>\n",
       "    <tr>\n",
       "      <th>24</th>\n",
       "      <td>2014</td>\n",
       "      <td>98273.0</td>\n",
       "      <td>809.786928</td>\n",
       "      <td>184.475717</td>\n",
       "      <td>68</td>\n",
       "      <td>4228.5</td>\n",
       "    </tr>\n",
       "    <tr>\n",
       "      <th>25</th>\n",
       "      <td>2015</td>\n",
       "      <td>101302.0</td>\n",
       "      <td>858.374144</td>\n",
       "      <td>189.127923</td>\n",
       "      <td>63</td>\n",
       "      <td>4354.0</td>\n",
       "    </tr>\n",
       "    <tr>\n",
       "      <th>26</th>\n",
       "      <td>2016</td>\n",
       "      <td>113812.0</td>\n",
       "      <td>909.876593</td>\n",
       "      <td>193.784161</td>\n",
       "      <td>64</td>\n",
       "      <td>4479.5</td>\n",
       "    </tr>\n",
       "    <tr>\n",
       "      <th>27</th>\n",
       "      <td>2017</td>\n",
       "      <td>109431.0</td>\n",
       "      <td>964.469188</td>\n",
       "      <td>198.433204</td>\n",
       "      <td>62</td>\n",
       "      <td>4605.0</td>\n",
       "    </tr>\n",
       "    <tr>\n",
       "      <th>28</th>\n",
       "      <td>2018</td>\n",
       "      <td>105582.0</td>\n",
       "      <td>1022.337339</td>\n",
       "      <td>203.062689</td>\n",
       "      <td>61</td>\n",
       "      <td>4730.5</td>\n",
       "    </tr>\n",
       "    <tr>\n",
       "      <th>29</th>\n",
       "      <td>2019</td>\n",
       "      <td>116969.0</td>\n",
       "      <td>1083.677580</td>\n",
       "      <td>207.659041</td>\n",
       "      <td>62</td>\n",
       "      <td>4856.0</td>\n",
       "    </tr>\n",
       "    <tr>\n",
       "      <th>30</th>\n",
       "      <td>2020</td>\n",
       "      <td>112635.0</td>\n",
       "      <td>1148.698235</td>\n",
       "      <td>212.207371</td>\n",
       "      <td>59</td>\n",
       "      <td>4981.5</td>\n",
       "    </tr>\n",
       "    <tr>\n",
       "      <th>31</th>\n",
       "      <td>2021</td>\n",
       "      <td>122391.0</td>\n",
       "      <td>1217.620129</td>\n",
       "      <td>216.691386</td>\n",
       "      <td>58</td>\n",
       "      <td>5107.0</td>\n",
       "    </tr>\n",
       "    <tr>\n",
       "      <th>32</th>\n",
       "      <td>2022</td>\n",
       "      <td>121872.0</td>\n",
       "      <td>1290.677336</td>\n",
       "      <td>221.093284</td>\n",
       "      <td>57</td>\n",
       "      <td>5232.5</td>\n",
       "    </tr>\n",
       "  </tbody>\n",
       "</table>\n",
       "</div>"
      ],
      "text/plain": [
       "    Years    Salary   material 1  material 2  demand   price\n",
       "0    1990   39343.0   200.000000   89.600000     103  1200.0\n",
       "1    1991   46205.0   212.000000   92.662500     104  1375.0\n",
       "2    1992   37731.0   224.720000   95.807250     101  1451.0\n",
       "3    1993   43525.0   238.203200   99.034819      99  1593.0\n",
       "4    1994   39891.0   252.495392  102.345626      95  1718.5\n",
       "5    1995   56642.0   267.645116  105.739927      96  1844.0\n",
       "6    1996   60150.0   283.703822  109.217795      95  1969.5\n",
       "7    1997   54445.0   300.726052  112.779099      92  2095.0\n",
       "8    1998   64445.0   318.769615  116.423489      92  2220.5\n",
       "9    1999   57189.0   337.895792  120.150370      87  2346.0\n",
       "10   2000   63218.0   358.169539  123.958881      84  2471.5\n",
       "11   2001   55794.0   379.659712  127.847867      86  2597.0\n",
       "12   2002   56957.0   402.439294  131.815854      87  2722.5\n",
       "13   2003   57019.0   426.585652  135.861021      78  2848.0\n",
       "14   2004   57081.0   452.180791  139.981164      79  2973.5\n",
       "15   2005   61111.0   479.311639  144.173669      78  3099.0\n",
       "16   2006   67938.0   508.070337  148.435472      78  3224.5\n",
       "17   2007   66029.0   538.554557  152.763021      71  3350.0\n",
       "18   2008   83088.0   570.867831  157.152236      73  3475.5\n",
       "19   2009   81363.0   605.119900  161.598465      72  3601.0\n",
       "20   2010   87651.5   641.427094  166.096436      71  3726.5\n",
       "21   2011   93940.0   679.912720  170.640209      67  3852.0\n",
       "22   2012   91738.0   720.707483  175.223117      70  3977.5\n",
       "23   2013   95005.5   763.949932  179.837716      69  4103.0\n",
       "24   2014   98273.0   809.786928  184.475717      68  4228.5\n",
       "25   2015  101302.0   858.374144  189.127923      63  4354.0\n",
       "26   2016  113812.0   909.876593  193.784161      64  4479.5\n",
       "27   2017  109431.0   964.469188  198.433204      62  4605.0\n",
       "28   2018  105582.0  1022.337339  203.062689      61  4730.5\n",
       "29   2019  116969.0  1083.677580  207.659041      62  4856.0\n",
       "30   2020  112635.0  1148.698235  212.207371      59  4981.5\n",
       "31   2021  122391.0  1217.620129  216.691386      58  5107.0\n",
       "32   2022  121872.0  1290.677336  221.093284      57  5232.5"
      ]
     },
     "execution_count": 161,
     "metadata": {},
     "output_type": "execute_result"
    }
   ],
   "source": [
    "df = pd.read_excel('data.xlsx')\n",
    "df"
   ]
  },
  {
   "cell_type": "markdown",
   "id": "a621fe4a",
   "metadata": {},
   "source": [
    "*****1*****"
   ]
  },
  {
   "cell_type": "markdown",
   "id": "2d0c021d",
   "metadata": {
    "pycharm": {
     "name": "#%% md\n"
    }
   },
   "source": [
    "دیتا های خالی را پیدا میکنیم"
   ]
  },
  {
   "cell_type": "code",
   "execution_count": 162,
   "id": "11a81d05",
   "metadata": {
    "pycharm": {
     "name": "#%%\n"
    },
    "scrolled": true
   },
   "outputs": [
    {
     "data": {
      "text/plain": [
       "Years         0\n",
       "Salary        0\n",
       "material 1    0\n",
       "material 2    0\n",
       "demand        0\n",
       "price         0\n",
       "dtype: int64"
      ]
     },
     "execution_count": 162,
     "metadata": {},
     "output_type": "execute_result"
    }
   ],
   "source": [
    "df.isnull().sum()"
   ]
  },
  {
   "cell_type": "markdown",
   "id": "ad06ab87",
   "metadata": {
    "pycharm": {
     "name": "#%% md\n"
    }
   },
   "source": [
    " مقادیر خالی سه مقادر در بخش حقوق کارکنان بود این مقادیر را در جدول با میانگین مقادیر قبل و بعد پر کردیم و ثبت نهایی کردیم در اکسل اولیه "
   ]
  },
  {
   "cell_type": "markdown",
   "id": "860c595a-218c-490e-b18c-7d12d882a582",
   "metadata": {},
   "source": [
    "در اینجا ما تابعی تعریف کردیم که مقادیر خالی در ستون مد نظر را پیدا کند و در صورت پر بودن مقادیر بسال قبل و سال بعدش میانگین این مقادیر را درآن قرار می‌دهد و در اکسل اصلی این مقادیر را نهایی می‌کند"
   ]
  },
  {
   "cell_type": "code",
   "execution_count": 163,
   "id": "db555eb3-92d9-4ae5-acd0-55af5ff84f85",
   "metadata": {},
   "outputs": [
    {
     "data": {
      "text/html": [
       "<div>\n",
       "<style scoped>\n",
       "    .dataframe tbody tr th:only-of-type {\n",
       "        vertical-align: middle;\n",
       "    }\n",
       "\n",
       "    .dataframe tbody tr th {\n",
       "        vertical-align: top;\n",
       "    }\n",
       "\n",
       "    .dataframe thead th {\n",
       "        text-align: right;\n",
       "    }\n",
       "</style>\n",
       "<table border=\"1\" class=\"dataframe\">\n",
       "  <thead>\n",
       "    <tr style=\"text-align: right;\">\n",
       "      <th></th>\n",
       "      <th>Years</th>\n",
       "      <th>Salary</th>\n",
       "      <th>material 1</th>\n",
       "      <th>material 2</th>\n",
       "      <th>demand</th>\n",
       "      <th>price</th>\n",
       "    </tr>\n",
       "  </thead>\n",
       "  <tbody>\n",
       "    <tr>\n",
       "      <th>0</th>\n",
       "      <td>1990</td>\n",
       "      <td>39343.0</td>\n",
       "      <td>200.000000</td>\n",
       "      <td>89.600000</td>\n",
       "      <td>103</td>\n",
       "      <td>1200.0</td>\n",
       "    </tr>\n",
       "    <tr>\n",
       "      <th>1</th>\n",
       "      <td>1991</td>\n",
       "      <td>46205.0</td>\n",
       "      <td>212.000000</td>\n",
       "      <td>92.662500</td>\n",
       "      <td>104</td>\n",
       "      <td>1375.0</td>\n",
       "    </tr>\n",
       "    <tr>\n",
       "      <th>2</th>\n",
       "      <td>1992</td>\n",
       "      <td>37731.0</td>\n",
       "      <td>224.720000</td>\n",
       "      <td>95.807250</td>\n",
       "      <td>101</td>\n",
       "      <td>1451.0</td>\n",
       "    </tr>\n",
       "    <tr>\n",
       "      <th>3</th>\n",
       "      <td>1993</td>\n",
       "      <td>43525.0</td>\n",
       "      <td>238.203200</td>\n",
       "      <td>99.034819</td>\n",
       "      <td>99</td>\n",
       "      <td>1593.0</td>\n",
       "    </tr>\n",
       "    <tr>\n",
       "      <th>4</th>\n",
       "      <td>1994</td>\n",
       "      <td>39891.0</td>\n",
       "      <td>252.495392</td>\n",
       "      <td>102.345626</td>\n",
       "      <td>95</td>\n",
       "      <td>1718.5</td>\n",
       "    </tr>\n",
       "    <tr>\n",
       "      <th>5</th>\n",
       "      <td>1995</td>\n",
       "      <td>56642.0</td>\n",
       "      <td>267.645116</td>\n",
       "      <td>105.739927</td>\n",
       "      <td>96</td>\n",
       "      <td>1844.0</td>\n",
       "    </tr>\n",
       "    <tr>\n",
       "      <th>6</th>\n",
       "      <td>1996</td>\n",
       "      <td>60150.0</td>\n",
       "      <td>283.703822</td>\n",
       "      <td>109.217795</td>\n",
       "      <td>95</td>\n",
       "      <td>1969.5</td>\n",
       "    </tr>\n",
       "    <tr>\n",
       "      <th>7</th>\n",
       "      <td>1997</td>\n",
       "      <td>54445.0</td>\n",
       "      <td>300.726052</td>\n",
       "      <td>112.779099</td>\n",
       "      <td>92</td>\n",
       "      <td>2095.0</td>\n",
       "    </tr>\n",
       "    <tr>\n",
       "      <th>8</th>\n",
       "      <td>1998</td>\n",
       "      <td>64445.0</td>\n",
       "      <td>318.769615</td>\n",
       "      <td>116.423489</td>\n",
       "      <td>92</td>\n",
       "      <td>2220.5</td>\n",
       "    </tr>\n",
       "    <tr>\n",
       "      <th>9</th>\n",
       "      <td>1999</td>\n",
       "      <td>57189.0</td>\n",
       "      <td>337.895792</td>\n",
       "      <td>120.150370</td>\n",
       "      <td>87</td>\n",
       "      <td>2346.0</td>\n",
       "    </tr>\n",
       "    <tr>\n",
       "      <th>10</th>\n",
       "      <td>2000</td>\n",
       "      <td>63218.0</td>\n",
       "      <td>358.169539</td>\n",
       "      <td>123.958881</td>\n",
       "      <td>84</td>\n",
       "      <td>2471.5</td>\n",
       "    </tr>\n",
       "    <tr>\n",
       "      <th>11</th>\n",
       "      <td>2001</td>\n",
       "      <td>55794.0</td>\n",
       "      <td>379.659712</td>\n",
       "      <td>127.847867</td>\n",
       "      <td>86</td>\n",
       "      <td>2597.0</td>\n",
       "    </tr>\n",
       "    <tr>\n",
       "      <th>12</th>\n",
       "      <td>2002</td>\n",
       "      <td>56957.0</td>\n",
       "      <td>402.439294</td>\n",
       "      <td>131.815854</td>\n",
       "      <td>87</td>\n",
       "      <td>2722.5</td>\n",
       "    </tr>\n",
       "    <tr>\n",
       "      <th>13</th>\n",
       "      <td>2003</td>\n",
       "      <td>57019.0</td>\n",
       "      <td>426.585652</td>\n",
       "      <td>135.861021</td>\n",
       "      <td>78</td>\n",
       "      <td>2848.0</td>\n",
       "    </tr>\n",
       "    <tr>\n",
       "      <th>14</th>\n",
       "      <td>2004</td>\n",
       "      <td>57081.0</td>\n",
       "      <td>452.180791</td>\n",
       "      <td>139.981164</td>\n",
       "      <td>79</td>\n",
       "      <td>2973.5</td>\n",
       "    </tr>\n",
       "    <tr>\n",
       "      <th>15</th>\n",
       "      <td>2005</td>\n",
       "      <td>61111.0</td>\n",
       "      <td>479.311639</td>\n",
       "      <td>144.173669</td>\n",
       "      <td>78</td>\n",
       "      <td>3099.0</td>\n",
       "    </tr>\n",
       "    <tr>\n",
       "      <th>16</th>\n",
       "      <td>2006</td>\n",
       "      <td>67938.0</td>\n",
       "      <td>508.070337</td>\n",
       "      <td>148.435472</td>\n",
       "      <td>78</td>\n",
       "      <td>3224.5</td>\n",
       "    </tr>\n",
       "    <tr>\n",
       "      <th>17</th>\n",
       "      <td>2007</td>\n",
       "      <td>66029.0</td>\n",
       "      <td>538.554557</td>\n",
       "      <td>152.763021</td>\n",
       "      <td>71</td>\n",
       "      <td>3350.0</td>\n",
       "    </tr>\n",
       "    <tr>\n",
       "      <th>18</th>\n",
       "      <td>2008</td>\n",
       "      <td>83088.0</td>\n",
       "      <td>570.867831</td>\n",
       "      <td>157.152236</td>\n",
       "      <td>73</td>\n",
       "      <td>3475.5</td>\n",
       "    </tr>\n",
       "    <tr>\n",
       "      <th>19</th>\n",
       "      <td>2009</td>\n",
       "      <td>81363.0</td>\n",
       "      <td>605.119900</td>\n",
       "      <td>161.598465</td>\n",
       "      <td>72</td>\n",
       "      <td>3601.0</td>\n",
       "    </tr>\n",
       "    <tr>\n",
       "      <th>20</th>\n",
       "      <td>2010</td>\n",
       "      <td>87651.5</td>\n",
       "      <td>641.427094</td>\n",
       "      <td>166.096436</td>\n",
       "      <td>71</td>\n",
       "      <td>3726.5</td>\n",
       "    </tr>\n",
       "    <tr>\n",
       "      <th>21</th>\n",
       "      <td>2011</td>\n",
       "      <td>93940.0</td>\n",
       "      <td>679.912720</td>\n",
       "      <td>170.640209</td>\n",
       "      <td>67</td>\n",
       "      <td>3852.0</td>\n",
       "    </tr>\n",
       "    <tr>\n",
       "      <th>22</th>\n",
       "      <td>2012</td>\n",
       "      <td>91738.0</td>\n",
       "      <td>720.707483</td>\n",
       "      <td>175.223117</td>\n",
       "      <td>70</td>\n",
       "      <td>3977.5</td>\n",
       "    </tr>\n",
       "    <tr>\n",
       "      <th>23</th>\n",
       "      <td>2013</td>\n",
       "      <td>95005.5</td>\n",
       "      <td>763.949932</td>\n",
       "      <td>179.837716</td>\n",
       "      <td>69</td>\n",
       "      <td>4103.0</td>\n",
       "    </tr>\n",
       "    <tr>\n",
       "      <th>24</th>\n",
       "      <td>2014</td>\n",
       "      <td>98273.0</td>\n",
       "      <td>809.786928</td>\n",
       "      <td>184.475717</td>\n",
       "      <td>68</td>\n",
       "      <td>4228.5</td>\n",
       "    </tr>\n",
       "    <tr>\n",
       "      <th>25</th>\n",
       "      <td>2015</td>\n",
       "      <td>101302.0</td>\n",
       "      <td>858.374144</td>\n",
       "      <td>189.127923</td>\n",
       "      <td>63</td>\n",
       "      <td>4354.0</td>\n",
       "    </tr>\n",
       "    <tr>\n",
       "      <th>26</th>\n",
       "      <td>2016</td>\n",
       "      <td>113812.0</td>\n",
       "      <td>909.876593</td>\n",
       "      <td>193.784161</td>\n",
       "      <td>64</td>\n",
       "      <td>4479.5</td>\n",
       "    </tr>\n",
       "    <tr>\n",
       "      <th>27</th>\n",
       "      <td>2017</td>\n",
       "      <td>109431.0</td>\n",
       "      <td>964.469188</td>\n",
       "      <td>198.433204</td>\n",
       "      <td>62</td>\n",
       "      <td>4605.0</td>\n",
       "    </tr>\n",
       "    <tr>\n",
       "      <th>28</th>\n",
       "      <td>2018</td>\n",
       "      <td>105582.0</td>\n",
       "      <td>1022.337339</td>\n",
       "      <td>203.062689</td>\n",
       "      <td>61</td>\n",
       "      <td>4730.5</td>\n",
       "    </tr>\n",
       "    <tr>\n",
       "      <th>29</th>\n",
       "      <td>2019</td>\n",
       "      <td>116969.0</td>\n",
       "      <td>1083.677580</td>\n",
       "      <td>207.659041</td>\n",
       "      <td>62</td>\n",
       "      <td>4856.0</td>\n",
       "    </tr>\n",
       "    <tr>\n",
       "      <th>30</th>\n",
       "      <td>2020</td>\n",
       "      <td>112635.0</td>\n",
       "      <td>1148.698235</td>\n",
       "      <td>212.207371</td>\n",
       "      <td>59</td>\n",
       "      <td>4981.5</td>\n",
       "    </tr>\n",
       "    <tr>\n",
       "      <th>31</th>\n",
       "      <td>2021</td>\n",
       "      <td>122391.0</td>\n",
       "      <td>1217.620129</td>\n",
       "      <td>216.691386</td>\n",
       "      <td>58</td>\n",
       "      <td>5107.0</td>\n",
       "    </tr>\n",
       "    <tr>\n",
       "      <th>32</th>\n",
       "      <td>2022</td>\n",
       "      <td>121872.0</td>\n",
       "      <td>1290.677336</td>\n",
       "      <td>221.093284</td>\n",
       "      <td>57</td>\n",
       "      <td>5232.5</td>\n",
       "    </tr>\n",
       "  </tbody>\n",
       "</table>\n",
       "</div>"
      ],
      "text/plain": [
       "    Years    Salary   material 1  material 2  demand   price\n",
       "0    1990   39343.0   200.000000   89.600000     103  1200.0\n",
       "1    1991   46205.0   212.000000   92.662500     104  1375.0\n",
       "2    1992   37731.0   224.720000   95.807250     101  1451.0\n",
       "3    1993   43525.0   238.203200   99.034819      99  1593.0\n",
       "4    1994   39891.0   252.495392  102.345626      95  1718.5\n",
       "5    1995   56642.0   267.645116  105.739927      96  1844.0\n",
       "6    1996   60150.0   283.703822  109.217795      95  1969.5\n",
       "7    1997   54445.0   300.726052  112.779099      92  2095.0\n",
       "8    1998   64445.0   318.769615  116.423489      92  2220.5\n",
       "9    1999   57189.0   337.895792  120.150370      87  2346.0\n",
       "10   2000   63218.0   358.169539  123.958881      84  2471.5\n",
       "11   2001   55794.0   379.659712  127.847867      86  2597.0\n",
       "12   2002   56957.0   402.439294  131.815854      87  2722.5\n",
       "13   2003   57019.0   426.585652  135.861021      78  2848.0\n",
       "14   2004   57081.0   452.180791  139.981164      79  2973.5\n",
       "15   2005   61111.0   479.311639  144.173669      78  3099.0\n",
       "16   2006   67938.0   508.070337  148.435472      78  3224.5\n",
       "17   2007   66029.0   538.554557  152.763021      71  3350.0\n",
       "18   2008   83088.0   570.867831  157.152236      73  3475.5\n",
       "19   2009   81363.0   605.119900  161.598465      72  3601.0\n",
       "20   2010   87651.5   641.427094  166.096436      71  3726.5\n",
       "21   2011   93940.0   679.912720  170.640209      67  3852.0\n",
       "22   2012   91738.0   720.707483  175.223117      70  3977.5\n",
       "23   2013   95005.5   763.949932  179.837716      69  4103.0\n",
       "24   2014   98273.0   809.786928  184.475717      68  4228.5\n",
       "25   2015  101302.0   858.374144  189.127923      63  4354.0\n",
       "26   2016  113812.0   909.876593  193.784161      64  4479.5\n",
       "27   2017  109431.0   964.469188  198.433204      62  4605.0\n",
       "28   2018  105582.0  1022.337339  203.062689      61  4730.5\n",
       "29   2019  116969.0  1083.677580  207.659041      62  4856.0\n",
       "30   2020  112635.0  1148.698235  212.207371      59  4981.5\n",
       "31   2021  122391.0  1217.620129  216.691386      58  5107.0\n",
       "32   2022  121872.0  1290.677336  221.093284      57  5232.5"
      ]
     },
     "execution_count": 163,
     "metadata": {},
     "output_type": "execute_result"
    }
   ],
   "source": [
    "def fill_nan(df,column):\n",
    "    for i in range(1,len(df)-1):\n",
    "        if pd.isna(df.loc[i,column]):\n",
    "            uper_cell = df.loc[i - 1,column]\n",
    "            lower_cell = df.loc[i + 1,column]\n",
    "            if pd.notna(uper_cell) and pd.notna(lower_cell):\n",
    "                 df.loc[i, column] = (uper_cell + lower_cell) / 2\n",
    "fill_nan(df, 'Salary')\n",
    "df.to_excel('data.xlsx', index=False)\n",
    "df\n"
   ]
  },
  {
   "cell_type": "markdown",
   "id": "9ed21ff3-6275-4d8e-9930-ebf0fc2eb1e5",
   "metadata": {},
   "source": [
    "مشاهده می‌شود که مقادیرخالی مان صفر شده اند این نکته مهم است که  با توجخه به اینکه در اکسل ثبت نهایی کردیم این مقادیر خالی را در هر دو جدول مقادیر خالی همواره مقادیر صفر است. "
   ]
  },
  {
   "cell_type": "code",
   "execution_count": 164,
   "id": "0eb2ec6f",
   "metadata": {},
   "outputs": [
    {
     "data": {
      "text/plain": [
       "Years         0\n",
       "Salary        0\n",
       "material 1    0\n",
       "material 2    0\n",
       "demand        0\n",
       "price         0\n",
       "dtype: int64"
      ]
     },
     "execution_count": 164,
     "metadata": {},
     "output_type": "execute_result"
    }
   ],
   "source": [
    "df.isnull().sum()"
   ]
  },
  {
   "cell_type": "markdown",
   "id": "c610838c",
   "metadata": {
    "pycharm": {
     "name": "#%% md\n"
    }
   },
   "source": [
    "از کتابخانه اسکیلرن بخش مدل های خطی آن را فراخوانی می‌کنیم\n"
   ]
  },
  {
   "cell_type": "code",
   "execution_count": 165,
   "id": "2ed917cc",
   "metadata": {
    "pycharm": {
     "name": "#%%\n"
    }
   },
   "outputs": [],
   "source": [
    "from sklearn.linear_model import LinearRegression"
   ]
  },
  {
   "cell_type": "markdown",
   "id": "59a40f78-3595-446b-8ab3-b00b124f596f",
   "metadata": {},
   "source": [
    "تابعی برای بدست اوردن رگرسیون مینویسیم به این صورت که ابتدا مقادیر طولی و عرضی ان را مشخص می‌کنیم و انها رو مدل می‌کنیم و این مدل را فیت می‌کنیم و با استفاده از خاصیت کتابخانه عرض از مبدا و شیب را بدست اورده و انها را با این تایع برمیگردانیم"
   ]
  },
  {
   "cell_type": "code",
   "execution_count": 166,
   "id": "ce5571a4-3c72-4b98-9de3-2ed7f898e9a9",
   "metadata": {},
   "outputs": [],
   "source": [
    "def regresion(x,y):\n",
    "    X = x.values.reshape(-1,1)\n",
    "    Y = y.values.reshape(-1,1)\n",
    "    model = LinearRegression()\n",
    "    model.fit(X,Y)\n",
    "    intercept = model.intercept_[0]\n",
    "    coefficient = model.coef_[0][0]\n",
    "    return intercept ,coefficient "
   ]
  },
  {
   "cell_type": "markdown",
   "id": "f08bb21c-82e9-4ea6-9794-4d347e346c0a",
   "metadata": {},
   "source": [
    "تابعی برای پیش‌بینی مقادیر نوشته ایم که در ان از تایع رگرسیون نیز استفاده کردیم "
   ]
  },
  {
   "cell_type": "code",
   "execution_count": 198,
   "id": "2659beb1-4134-43b4-9e2c-cbd5bb0c13c8",
   "metadata": {
    "pycharm": {
     "name": "#%%\n"
    }
   },
   "outputs": [],
   "source": [
    "def predict(x,y,t):\n",
    "    z = regresion(y,t)\n",
    "    return z[0] + z[1] * x"
   ]
  },
  {
   "cell_type": "markdown",
   "id": "6d23ac94-1af5-4712-8ff7-a396ed12b64a",
   "metadata": {},
   "source": [
    "تابعی برای دقت رگرسیون تعریف کردیم که مانند تابع رگرسیون است با فرق اینکه از پیش فرض دیگر کتابخانه در ان استفاده کردیم"
   ]
  },
  {
   "cell_type": "code",
   "execution_count": 168,
   "id": "a5eaaeb5-d87c-4f4b-bc89-117fa1b64c85",
   "metadata": {},
   "outputs": [],
   "source": [
    "def score(x,y):\n",
    "    X = x.values.reshape(-1,1)\n",
    "    Y = y.values.reshape(-1,1)\n",
    "    model = LinearRegression()\n",
    "    model.fit(X,Y)\n",
    "    score = model.score(X,Y)\n",
    "    return score\n"
   ]
  },
  {
   "cell_type": "markdown",
   "id": "435c4644",
   "metadata": {},
   "source": [
    "*****2*****\n"
   ]
  },
  {
   "cell_type": "markdown",
   "id": "cd90cad5",
   "metadata": {
    "pycharm": {
     "name": "#%% md\n"
    }
   },
   "source": [
    "مقادیر رگرسیون(عرض از مبدا وشیب) را با استفاده از تابعی که بالا تعریف کردیم بدست اوردیم"
   ]
  },
  {
   "cell_type": "code",
   "execution_count": 169,
   "id": "8468e021",
   "metadata": {
    "pycharm": {
     "name": "#%%\n"
    }
   },
   "outputs": [
    {
     "data": {
      "text/plain": [
       "(-5249679.051136364, 2655.052640374332)"
      ]
     },
     "execution_count": 169,
     "metadata": {},
     "output_type": "execute_result"
    }
   ],
   "source": [
    "regresion(df['Years'],df['Salary'])"
   ]
  },
  {
   "cell_type": "markdown",
   "id": "673fc6d0",
   "metadata": {
    "pycharm": {
     "name": "#%% md\n"
    }
   },
   "source": [
    "پیش بینی را تا سال 2050 ادامه دادیم"
   ]
  },
  {
   "cell_type": "markdown",
   "id": "bec7b734",
   "metadata": {
    "pycharm": {
     "name": "#%% md\n"
    }
   },
   "source": [
    "**2023-2050**\n"
   ]
  },
  {
   "cell_type": "code",
   "execution_count": 170,
   "id": "dc9af105",
   "metadata": {
    "pycharm": {
     "name": "#%%\n"
    }
   },
   "outputs": [
    {
     "data": {
      "text/plain": [
       "[(2023, 121492.44034090918),\n",
       " (2024, 124147.49298128393),\n",
       " (2025, 126802.54562165774),\n",
       " (2026, 129457.5982620325),\n",
       " (2027, 132112.6509024063),\n",
       " (2028, 134767.70354278106),\n",
       " (2029, 137422.7561831558),\n",
       " (2030, 140077.80882352963),\n",
       " (2031, 142732.86146390438),\n",
       " (2032, 145387.9141042782),\n",
       " (2033, 148042.96674465295),\n",
       " (2034, 150698.01938502677),\n",
       " (2035, 153353.07202540152),\n",
       " (2036, 156008.12466577534),\n",
       " (2037, 158663.1773061501),\n",
       " (2038, 161318.2299465239),\n",
       " (2039, 163973.28258689865),\n",
       " (2040, 166628.3352272734),\n",
       " (2041, 169283.38786764722),\n",
       " (2042, 171938.44050802197),\n",
       " (2043, 174593.4931483958),\n",
       " (2044, 177248.54578877054),\n",
       " (2045, 179903.59842914436),\n",
       " (2046, 182558.6510695191),\n",
       " (2047, 185213.70370989293),\n",
       " (2048, 187868.75635026768),\n",
       " (2049, 190523.80899064243),\n",
       " (2050, 193178.86163101625)]"
      ]
     },
     "execution_count": 170,
     "metadata": {},
     "output_type": "execute_result"
    }
   ],
   "source": [
    "predicted_list=[]\n",
    "for i in range(2023,2051):\n",
    "    predicted_list.append((i,predict(i,df['Years'],df['Salary'])))\n",
    "predicted_list"
   ]
  },
  {
   "cell_type": "markdown",
   "id": "d7eb7a9f",
   "metadata": {
    "pycharm": {
     "name": "#%% md\n"
    }
   },
   "source": [
    "کتابخانه متپلات را برای رسم نمودار ها فراخوانی کردیم"
   ]
  },
  {
   "cell_type": "code",
   "execution_count": 171,
   "id": "d8e6ea0e",
   "metadata": {
    "pycharm": {
     "name": "#%%\n"
    }
   },
   "outputs": [],
   "source": [
    "import matplotlib.pylab as plt"
   ]
  },
  {
   "cell_type": "markdown",
   "id": "74a7b0fb",
   "metadata": {
    "pycharm": {
     "name": "#%% md\n"
    }
   },
   "source": [
    "تابعی تعریف کردیم که نمودار نقطه ای مقادیر و رگرسیون خطی را در ان رسم کنیم"
   ]
  },
  {
   "cell_type": "code",
   "execution_count": 172,
   "id": "5bae5eba-93a7-485f-a8f8-4546752d0d74",
   "metadata": {},
   "outputs": [],
   "source": [
    "def pltreg(m,n):\n",
    "    plt.scatter(m,n)\n",
    "    X = m.values.reshape(-1,1)\n",
    "    Y = n.values.reshape(-1,1)\n",
    "    model = LinearRegression()\n",
    "    model.fit(X,Y)\n",
    "    plt.plot(m,model.predict(X),c = 'red')\n",
    "    plt.show()"
   ]
  },
  {
   "cell_type": "markdown",
   "id": "fc1f1529",
   "metadata": {
    "pycharm": {
     "name": "#%% md\n"
    }
   },
   "source": [
    "**3**"
   ]
  },
  {
   "cell_type": "markdown",
   "id": "9f266c69-9a03-466d-a96c-8504c21cec37",
   "metadata": {},
   "source": [
    "نمودار حقوق بر اساس سال"
   ]
  },
  {
   "cell_type": "code",
   "execution_count": 173,
   "id": "429b3063-1cec-4079-8f7c-a543726488dd",
   "metadata": {},
   "outputs": [
    {
     "data": {
      "image/png": "[encoded data removed]",
      "text/plain": [
       "<Figure size 640x480 with 1 Axes>"
      ]
     },
     "metadata": {},
     "output_type": "display_data"
    }
   ],
   "source": [
    "pltreg(df['Years'],df['Salary'])"
   ]
  },
  {
   "cell_type": "markdown",
   "id": "ed470a11",
   "metadata": {
    "pycharm": {
     "name": "#%% md\n"
    }
   },
   "source": [
    "دقت رگرسیون بالا با استفاده از تابع تعریف شده"
   ]
  },
  {
   "cell_type": "code",
   "execution_count": 174,
   "id": "4ca3c824",
   "metadata": {
    "pycharm": {
     "name": "#%%\n"
    }
   },
   "outputs": [
    {
     "data": {
      "text/plain": [
       "0.9312739842698768"
      ]
     },
     "execution_count": 174,
     "metadata": {},
     "output_type": "execute_result"
    }
   ],
   "source": [
    "score(df['Years'],df['Salary'])"
   ]
  },
  {
   "cell_type": "markdown",
   "id": "e7323e12",
   "metadata": {
    "pycharm": {
     "name": "#%% md\n"
    }
   },
   "source": [
    "**4**"
   ]
  },
  {
   "cell_type": "markdown",
   "id": "e1718bbe-ac16-4883-9949-24b0b2ced1af",
   "metadata": {},
   "source": [
    "تابعی تعریف کردیم برای بدست اوردن ارزش اینده مقادیر "
   ]
  },
  {
   "cell_type": "code",
   "execution_count": 175,
   "id": "1c1c7742",
   "metadata": {
    "pycharm": {
     "name": "#%%\n"
    }
   },
   "outputs": [],
   "source": [
    "def POM1(i,n,P):\n",
    "    F = P * (1 + i) ** n\n",
    "    return F\n",
    "    "
   ]
  },
  {
   "cell_type": "markdown",
   "id": "a96d464e",
   "metadata": {
    "pycharm": {
     "name": "#%% md\n"
    }
   },
   "source": [
    "قیمت متریال 1 تا سال 2050 با استفاده از تابع تعریف شده"
   ]
  },
  {
   "cell_type": "code",
   "execution_count": 176,
   "id": "fc3bb0fd",
   "metadata": {
    "pycharm": {
     "name": "#%%\n"
    }
   },
   "outputs": [
    {
     "name": "stdout",
     "output_type": "stream",
     "text": [
      "2023 : 1368.1179765596917\n",
      "2024 : 1450.2050551532734\n",
      "2025 : 1537.21735846247\n",
      "2026 : 1629.4503999702179\n",
      "2027 : 1727.2174239684311\n",
      "2028 : 1830.8504694065373\n",
      "2029 : 1940.7014975709294\n",
      "2030 : 2057.1435874251856\n",
      "2031 : 2180.5722026706967\n",
      "2032 : 2311.4065348309387\n",
      "2033 : 2450.090926920795\n",
      "2034 : 2597.0963825360427\n",
      "2035 : 2752.922165488206\n",
      "2036 : 2918.097495417498\n",
      "2037 : 3093.1833451425478\n",
      "2038 : 3278.774345851101\n",
      "2039 : 3475.5008066021674\n",
      "2040 : 3684.030854998298\n",
      "2041 : 3905.0727062981955\n",
      "2042 : 4139.377068676087\n",
      "2043 : 4387.739692796653\n",
      "2044 : 4651.004074364452\n",
      "2045 : 4930.06431882632\n",
      "2046 : 5225.868177955899\n",
      "2047 : 5539.420268633254\n",
      "2048 : 5871.785484751249\n",
      "2049 : 6224.092613836324\n",
      "2050 : 6597.538170666505\n"
     ]
    }
   ],
   "source": [
    "i = 0.05 + 0.01\n",
    "for m in range(2023,2051):\n",
    "    n=m-df.iloc[0,0]\n",
    "    p = df.iloc[0,2]\n",
    "    print(f'{m} : {POM1(i,n,p)}')"
   ]
  },
  {
   "cell_type": "markdown",
   "id": "cc90184d",
   "metadata": {},
   "source": [
    "*****5*****\n"
   ]
  },
  {
   "cell_type": "code",
   "execution_count": 177,
   "id": "bc553242",
   "metadata": {},
   "outputs": [],
   "source": [
    "def fp_formula(value, n):\n",
    "    return value / (1 + 0.05)**n"
   ]
  },
  {
   "cell_type": "code",
   "execution_count": 178,
   "id": "7ac3a546",
   "metadata": {},
   "outputs": [
    {
     "name": "stdout",
     "output_type": "stream",
     "text": [
      "    Years    Salary   material 1  material 2  demand   price   n      P\n",
      "0    1990   39343.0   200.000000   89.600000     103  1200.0   0  89.60\n",
      "1    1991   46205.0   212.000000   92.662500     104  1375.0   1  88.25\n",
      "2    1992   37731.0   224.720000   95.807250     101  1451.0   2  86.90\n",
      "3    1993   43525.0   238.203200   99.034819      99  1593.0   3  85.55\n",
      "4    1994   39891.0   252.495392  102.345626      95  1718.5   4  84.20\n",
      "5    1995   56642.0   267.645116  105.739927      96  1844.0   5  82.85\n",
      "6    1996   60150.0   283.703822  109.217795      95  1969.5   6  81.50\n",
      "7    1997   54445.0   300.726052  112.779099      92  2095.0   7  80.15\n",
      "8    1998   64445.0   318.769615  116.423489      92  2220.5   8  78.80\n",
      "9    1999   57189.0   337.895792  120.150370      87  2346.0   9  77.45\n",
      "10   2000   63218.0   358.169539  123.958881      84  2471.5  10  76.10\n",
      "11   2001   55794.0   379.659712  127.847867      86  2597.0  11  74.75\n",
      "12   2002   56957.0   402.439294  131.815854      87  2722.5  12  73.40\n",
      "13   2003   57019.0   426.585652  135.861021      78  2848.0  13  72.05\n",
      "14   2004   57081.0   452.180791  139.981164      79  2973.5  14  70.70\n",
      "15   2005   61111.0   479.311639  144.173669      78  3099.0  15  69.35\n",
      "16   2006   67938.0   508.070337  148.435472      78  3224.5  16  68.00\n",
      "17   2007   66029.0   538.554557  152.763021      71  3350.0  17  66.65\n",
      "18   2008   83088.0   570.867831  157.152236      73  3475.5  18  65.30\n",
      "19   2009   81363.0   605.119900  161.598465      72  3601.0  19  63.95\n",
      "20   2010   87651.5   641.427094  166.096436      71  3726.5  20  62.60\n",
      "21   2011   93940.0   679.912720  170.640209      67  3852.0  21  61.25\n",
      "22   2012   91738.0   720.707483  175.223117      70  3977.5  22  59.90\n",
      "23   2013   95005.5   763.949932  179.837716      69  4103.0  23  58.55\n",
      "24   2014   98273.0   809.786928  184.475717      68  4228.5  24  57.20\n",
      "25   2015  101302.0   858.374144  189.127923      63  4354.0  25  55.85\n",
      "26   2016  113812.0   909.876593  193.784161      64  4479.5  26  54.50\n",
      "27   2017  109431.0   964.469188  198.433204      62  4605.0  27  53.15\n",
      "28   2018  105582.0  1022.337339  203.062689      61  4730.5  28  51.80\n",
      "29   2019  116969.0  1083.677580  207.659041      62  4856.0  29  50.45\n",
      "30   2020  112635.0  1148.698235  212.207371      59  4981.5  30  49.10\n",
      "31   2021  122391.0  1217.620129  216.691386      58  5107.0  31  47.75\n",
      "32   2022  121872.0  1290.677336  221.093284      57  5232.5  32  46.40\n"
     ]
    }
   ],
   "source": [
    "df['n'] = df['Years']-1990\n",
    "\n",
    "df['P'] = df.apply(lambda row: fp_formula(row['material 2'], row['n']), axis=1)\n",
    "print(df)"
   ]
  },
  {
   "cell_type": "code",
   "execution_count": 179,
   "id": "dc8ef9b8",
   "metadata": {},
   "outputs": [
    {
     "data": {
      "text/plain": [
       "(2776.1000000000063, -1.3500000000000032)"
      ]
     },
     "execution_count": 179,
     "metadata": {},
     "output_type": "execute_result"
    }
   ],
   "source": [
    "regresion(df['Years'],df['P'])"
   ]
  },
  {
   "cell_type": "code",
   "execution_count": 180,
   "id": "e62855d8",
   "metadata": {},
   "outputs": [
    {
     "data": {
      "text/plain": [
       "[(1990, 89.59999999999991),\n",
       " (1991, 88.25),\n",
       " (1992, 86.90000000000009),\n",
       " (1993, 85.54999999999973),\n",
       " (1994, 84.19999999999982),\n",
       " (1995, 82.84999999999991),\n",
       " (1996, 81.5),\n",
       " (1997, 80.15000000000009),\n",
       " (1998, 78.79999999999973),\n",
       " (1999, 77.44999999999982),\n",
       " (2000, 76.09999999999991),\n",
       " (2001, 74.75),\n",
       " (2002, 73.40000000000009),\n",
       " (2003, 72.04999999999973),\n",
       " (2004, 70.69999999999982),\n",
       " (2005, 69.34999999999991),\n",
       " (2006, 68.0),\n",
       " (2007, 66.64999999999964),\n",
       " (2008, 65.29999999999973),\n",
       " (2009, 63.94999999999982),\n",
       " (2010, 62.59999999999991),\n",
       " (2011, 61.25),\n",
       " (2012, 59.899999999999636),\n",
       " (2013, 58.54999999999973),\n",
       " (2014, 57.19999999999982),\n",
       " (2015, 55.84999999999991),\n",
       " (2016, 54.5),\n",
       " (2017, 53.149999999999636),\n",
       " (2018, 51.79999999999973),\n",
       " (2019, 50.44999999999982),\n",
       " (2020, 49.09999999999991),\n",
       " (2021, 47.75),\n",
       " (2022, 46.399999999999636)]"
      ]
     },
     "execution_count": 180,
     "metadata": {},
     "output_type": "execute_result"
    }
   ],
   "source": [
    "predicted_list=[]\n",
    "for i in range(1990,2023):\n",
    "    predicted_list.append((i,predict(i,df['Years'],df['P'])))\n",
    "predicted_list"
   ]
  },
  {
   "cell_type": "code",
   "execution_count": 181,
   "id": "ba4fc37a",
   "metadata": {},
   "outputs": [
    {
     "data": {
      "image/png": "[encoded data removed]",
      "text/plain": [
       "<Figure size 640x480 with 1 Axes>"
      ]
     },
     "metadata": {},
     "output_type": "display_data"
    }
   ],
   "source": [
    "pltreg(df['Years'],df['P'])"
   ]
  },
  {
   "cell_type": "code",
   "execution_count": 182,
   "id": "dc4ab361",
   "metadata": {},
   "outputs": [
    {
     "data": {
      "text/plain": [
       "1.0"
      ]
     },
     "execution_count": 182,
     "metadata": {},
     "output_type": "execute_result"
    }
   ],
   "source": [
    "score(df['Years'],df['P'])"
   ]
  },
  {
   "cell_type": "code",
   "execution_count": 183,
   "id": "290ecbe7",
   "metadata": {},
   "outputs": [],
   "source": [
    "def efactor(n):\n",
    "    return 2.71828183**(-n/50)"
   ]
  },
  {
   "cell_type": "code",
   "execution_count": 184,
   "id": "db86939e",
   "metadata": {},
   "outputs": [
    {
     "data": {
      "text/plain": [
       "[array([1.]),\n",
       " array([0.98019867]),\n",
       " array([0.96078944]),\n",
       " array([0.94176453]),\n",
       " array([0.92311635]),\n",
       " array([0.90483742]),\n",
       " array([0.88692044]),\n",
       " array([0.86935824]),\n",
       " array([0.85214379]),\n",
       " array([0.83527021]),\n",
       " array([0.81873075]),\n",
       " array([0.8025188]),\n",
       " array([0.78662786]),\n",
       " array([0.77105159]),\n",
       " array([0.75578374]),\n",
       " array([0.74081822]),\n",
       " array([0.72614904]),\n",
       " array([0.71177032]),\n",
       " array([0.69767633]),\n",
       " array([0.68386141]),\n",
       " array([0.67032005]),\n",
       " array([0.65704682]),\n",
       " array([0.64403642]),\n",
       " array([0.63128365]),\n",
       " array([0.61878339]),\n",
       " array([0.60653066]),\n",
       " array([0.59452055]),\n",
       " array([0.58274825]),\n",
       " array([0.57120906]),\n",
       " array([0.55989837]),\n",
       " array([0.54881164]),\n",
       " array([0.53794444]),\n",
       " array([0.52729242]),\n",
       " array([0.51685133]),\n",
       " array([0.50661699]),\n",
       " array([0.4965853]),\n",
       " array([0.48675226]),\n",
       " array([0.47711392]),\n",
       " array([0.46766643]),\n",
       " array([0.45840601]),\n",
       " array([0.44932896]),\n",
       " array([0.44043165]),\n",
       " array([0.43171052]),\n",
       " array([0.42316208]),\n",
       " array([0.41478291]),\n",
       " array([0.40656966]),\n",
       " array([0.39851904]),\n",
       " array([0.39062784]),\n",
       " array([0.38289289]),\n",
       " array([0.3753111]),\n",
       " array([0.36787944]),\n",
       " array([0.36059494]),\n",
       " array([0.35345468]),\n",
       " array([0.34645581]),\n",
       " array([0.33959553]),\n",
       " array([0.33287108]),\n",
       " array([0.32627979]),\n",
       " array([0.31981902]),\n",
       " array([0.31348618]),\n",
       " array([0.30727874]),\n",
       " array([0.30119421])]"
      ]
     },
     "execution_count": 184,
     "metadata": {},
     "output_type": "execute_result"
    }
   ],
   "source": [
    "demand=[]\n",
    "for i in range(1990,2051):\n",
    "    demand.append(np.array([efactor(i-1990)]))\n",
    "demand"
   ]
  },
  {
   "cell_type": "code",
   "execution_count": 185,
   "id": "eb54d550",
   "metadata": {},
   "outputs": [],
   "source": [
    "model = LinearRegression()"
   ]
  },
  {
   "cell_type": "code",
   "execution_count": 186,
   "id": "3123bc09",
   "metadata": {},
   "outputs": [],
   "source": [
    "demand=demand[:33]"
   ]
  },
  {
   "cell_type": "code",
   "execution_count": 187,
   "id": "2d673832",
   "metadata": {},
   "outputs": [
    {
     "data": {
      "text/html": [
       "<style>#sk-container-id-5 {color: black;}#sk-container-id-5 pre{padding: 0;}#sk-container-id-5 div.sk-toggleable {background-color: white;}#sk-container-id-5 label.sk-toggleable__label {cursor: pointer;display: block;width: 100%;margin-bottom: 0;padding: 0.3em;box-sizing: border-box;text-align: center;}#sk-container-id-5 label.sk-toggleable__label-arrow:before {content: \"▸\";float: left;margin-right: 0.25em;color: #696969;}#sk-container-id-5 label.sk-toggleable__label-arrow:hover:before {color: black;}#sk-container-id-5 div.sk-estimator:hover label.sk-toggleable__label-arrow:before {color: black;}#sk-container-id-5 div.sk-toggleable__content {max-height: 0;max-width: 0;overflow: hidden;text-align: left;background-color: #f0f8ff;}#sk-container-id-5 div.sk-toggleable__content pre {margin: 0.2em;color: black;border-radius: 0.25em;background-color: #f0f8ff;}#sk-container-id-5 input.sk-toggleable__control:checked~div.sk-toggleable__content {max-height: 200px;max-width: 100%;overflow: auto;}#sk-container-id-5 input.sk-toggleable__control:checked~label.sk-toggleable__label-arrow:before {content: \"▾\";}#sk-container-id-5 div.sk-estimator input.sk-toggleable__control:checked~label.sk-toggleable__label {background-color: #d4ebff;}#sk-container-id-5 div.sk-label input.sk-toggleable__control:checked~label.sk-toggleable__label {background-color: #d4ebff;}#sk-container-id-5 input.sk-hidden--visually {border: 0;clip: rect(1px 1px 1px 1px);clip: rect(1px, 1px, 1px, 1px);height: 1px;margin: -1px;overflow: hidden;padding: 0;position: absolute;width: 1px;}#sk-container-id-5 div.sk-estimator {font-family: monospace;background-color: #f0f8ff;border: 1px dotted black;border-radius: 0.25em;box-sizing: border-box;margin-bottom: 0.5em;}#sk-container-id-5 div.sk-estimator:hover {background-color: #d4ebff;}#sk-container-id-5 div.sk-parallel-item::after {content: \"\";width: 100%;border-bottom: 1px solid gray;flex-grow: 1;}#sk-container-id-5 div.sk-label:hover label.sk-toggleable__label {background-color: #d4ebff;}#sk-container-id-5 div.sk-serial::before {content: \"\";position: absolute;border-left: 1px solid gray;box-sizing: border-box;top: 0;bottom: 0;left: 50%;z-index: 0;}#sk-container-id-5 div.sk-serial {display: flex;flex-direction: column;align-items: center;background-color: white;padding-right: 0.2em;padding-left: 0.2em;position: relative;}#sk-container-id-5 div.sk-item {position: relative;z-index: 1;}#sk-container-id-5 div.sk-parallel {display: flex;align-items: stretch;justify-content: center;background-color: white;position: relative;}#sk-container-id-5 div.sk-item::before, #sk-container-id-5 div.sk-parallel-item::before {content: \"\";position: absolute;border-left: 1px solid gray;box-sizing: border-box;top: 0;bottom: 0;left: 50%;z-index: -1;}#sk-container-id-5 div.sk-parallel-item {display: flex;flex-direction: column;z-index: 1;position: relative;background-color: white;}#sk-container-id-5 div.sk-parallel-item:first-child::after {align-self: flex-end;width: 50%;}#sk-container-id-5 div.sk-parallel-item:last-child::after {align-self: flex-start;width: 50%;}#sk-container-id-5 div.sk-parallel-item:only-child::after {width: 0;}#sk-container-id-5 div.sk-dashed-wrapped {border: 1px dashed gray;margin: 0 0.4em 0.5em 0.4em;box-sizing: border-box;padding-bottom: 0.4em;background-color: white;}#sk-container-id-5 div.sk-label label {font-family: monospace;font-weight: bold;display: inline-block;line-height: 1.2em;}#sk-container-id-5 div.sk-label-container {text-align: center;}#sk-container-id-5 div.sk-container {/* jupyter's `normalize.less` sets `[hidden] { display: none; }` but bootstrap.min.css set `[hidden] { display: none !important; }` so we also need the `!important` here to be able to override the default hidden behavior on the sphinx rendered scikit-learn.org. See: https://github.com/scikit-learn/scikit-learn/issues/21755 */display: inline-block !important;position: relative;}#sk-container-id-5 div.sk-text-repr-fallback {display: none;}</style><div id=\"sk-container-id-5\" class=\"sk-top-container\"><div class=\"sk-text-repr-fallback\"><pre>LinearRegression()</pre><b>In a Jupyter environment, please rerun this cell to show the HTML representation or trust the notebook. <br />On GitHub, the HTML representation is unable to render, please try loading this page with nbviewer.org.</b></div><div class=\"sk-container\" hidden><div class=\"sk-item\"><div class=\"sk-estimator sk-toggleable\"><input class=\"sk-toggleable__control sk-hidden--visually\" id=\"sk-estimator-id-5\" type=\"checkbox\" checked><label for=\"sk-estimator-id-5\" class=\"sk-toggleable__label sk-toggleable__label-arrow\">LinearRegression</label><div class=\"sk-toggleable__content\"><pre>LinearRegression()</pre></div></div></div></div></div>"
      ],
      "text/plain": [
       "LinearRegression()"
      ]
     },
     "execution_count": 187,
     "metadata": {},
     "output_type": "execute_result"
    }
   ],
   "source": [
    "X = np.array(demand).reshape(-1,1)\n",
    "Y = df['demand'].values.reshape(-1,1)\n",
    "model.fit(X,Y)"
   ]
  },
  {
   "cell_type": "code",
   "execution_count": 188,
   "id": "1b166c73",
   "metadata": {},
   "outputs": [],
   "source": [
    "intercept = model.intercept_[0]\n",
    "coefficient = model.coef_[0][0]"
   ]
  },
  {
   "cell_type": "code",
   "execution_count": 189,
   "id": "ef2d3fe0-b102-43a2-b8db-63a5c50d78b0",
   "metadata": {},
   "outputs": [],
   "source": [
    "def predict2(x):\n",
    "    return intercept + coefficient * x"
   ]
  },
  {
   "cell_type": "code",
   "execution_count": 190,
   "id": "0aa87c66",
   "metadata": {},
   "outputs": [
    {
     "data": {
      "text/plain": [
       "[(1990, 201711.78554539673),\n",
       " (1991, 201813.14661002296),\n",
       " (1992, 201914.50767464918),\n",
       " (1993, 202015.86873927544),\n",
       " (1994, 202117.22980390166),\n",
       " (1995, 202218.5908685279),\n",
       " (1996, 202319.95193315414),\n",
       " (1997, 202421.31299778036),\n",
       " (1998, 202522.67406240662),\n",
       " (1999, 202624.03512703284),\n",
       " (2000, 202725.3961916591),\n",
       " (2001, 202826.75725628532),\n",
       " (2002, 202928.11832091154),\n",
       " (2003, 203029.4793855378),\n",
       " (2004, 203130.84045016402),\n",
       " (2005, 203232.20151479027),\n",
       " (2006, 203333.5625794165),\n",
       " (2007, 203434.92364404272),\n",
       " (2008, 203536.28470866897),\n",
       " (2009, 203637.6457732952),\n",
       " (2010, 203739.00683792145),\n",
       " (2011, 203840.36790254767),\n",
       " (2012, 203941.7289671739),\n",
       " (2013, 204043.09003180015),\n",
       " (2014, 204144.45109642638),\n",
       " (2015, 204245.81216105263),\n",
       " (2016, 204347.17322567885),\n",
       " (2017, 204448.53429030508),\n",
       " (2018, 204549.89535493133),\n",
       " (2019, 204651.25641955755),\n",
       " (2020, 204752.6174841838),\n",
       " (2021, 204853.97854881003),\n",
       " (2022, 204955.33961343628)]"
      ]
     },
     "execution_count": 190,
     "metadata": {},
     "output_type": "execute_result"
    }
   ],
   "source": [
    "predicted_list=[]\n",
    "for i in range(1990,2023):\n",
    "    predicted_list.append((i,predict2(i)))\n",
    "predicted_list"
   ]
  },
  {
   "cell_type": "code",
   "execution_count": 191,
   "id": "3427e642",
   "metadata": {},
   "outputs": [
    {
     "data": {
      "image/png": "[encoded data removed]",
      "text/plain": [
       "<Figure size 640x480 with 1 Axes>"
      ]
     },
     "metadata": {},
     "output_type": "display_data"
    }
   ],
   "source": [
    "plt.plot(demand,model.predict(X),c = 'red')\n",
    "plt.show()"
   ]
  },
  {
   "cell_type": "markdown",
   "id": "ebb7a64f-448f-4ccc-9cc3-1f96d7a63459",
   "metadata": {},
   "source": [
    "**10**"
   ]
  },
  {
   "cell_type": "markdown",
   "id": "d72a0c72-197d-401a-a254-6bc584cab1d5",
   "metadata": {},
   "source": [
    "رگرسیون خطی قیمت و سال را بدست می آوریم"
   ]
  },
  {
   "cell_type": "code",
   "execution_count": 192,
   "id": "2ff49acc-2811-46c5-89ca-b1b1bf58875d",
   "metadata": {},
   "outputs": [
    {
     "data": {
      "text/plain": [
       "(-248528.5, 125.5)"
      ]
     },
     "execution_count": 192,
     "metadata": {},
     "output_type": "execute_result"
    }
   ],
   "source": [
    "regresion(df['Years'],df['price'])"
   ]
  },
  {
   "cell_type": "markdown",
   "id": "ebdd1402-9ce2-47e9-9bf6-2675d9d39e5f",
   "metadata": {},
   "source": [
    "مقادیر تا سال 2050 را بدست اوردیم"
   ]
  },
  {
   "cell_type": "code",
   "execution_count": 193,
   "id": "35674a78-a97a-42b3-97ff-485afea2ec49",
   "metadata": {},
   "outputs": [
    {
     "data": {
      "text/plain": [
       "[(2023, 5358.0),\n",
       " (2024, 5483.5),\n",
       " (2025, 5609.0),\n",
       " (2026, 5734.5),\n",
       " (2027, 5860.0),\n",
       " (2028, 5985.5),\n",
       " (2029, 6111.0),\n",
       " (2030, 6236.5),\n",
       " (2031, 6362.0),\n",
       " (2032, 6487.5),\n",
       " (2033, 6613.0),\n",
       " (2034, 6738.5),\n",
       " (2035, 6864.0),\n",
       " (2036, 6989.5),\n",
       " (2037, 7115.0),\n",
       " (2038, 7240.5),\n",
       " (2039, 7366.0),\n",
       " (2040, 7491.5),\n",
       " (2041, 7617.0),\n",
       " (2042, 7742.5),\n",
       " (2043, 7868.0),\n",
       " (2044, 7993.5),\n",
       " (2045, 8119.0),\n",
       " (2046, 8244.5),\n",
       " (2047, 8370.0),\n",
       " (2048, 8495.5),\n",
       " (2049, 8621.0),\n",
       " (2050, 8746.5)]"
      ]
     },
     "execution_count": 193,
     "metadata": {},
     "output_type": "execute_result"
    }
   ],
   "source": [
    "predicted_list=[]\n",
    "for i in range(2023,2051):\n",
    "    predicted_list.append((i,predict(i,df['Years'],df['price'])))\n",
    "predicted_list"
   ]
  },
  {
   "cell_type": "markdown",
   "id": "d70c72d5-3a81-45ba-b652-fafdb19e860d",
   "metadata": {},
   "source": [
    "**11**"
   ]
  },
  {
   "cell_type": "markdown",
   "id": "59972cdb-7301-4a9b-9b5c-95d749c2c41a",
   "metadata": {},
   "source": [
    "تابع نقطه ای و خطی را رسم کردیم و با هم مقایسه می‌کنیم"
   ]
  },
  {
   "cell_type": "code",
   "execution_count": 194,
   "id": "333c4264-f451-4a03-9316-248830bc3eaa",
   "metadata": {},
   "outputs": [
    {
     "data": {
      "image/png": "[encoded data removed]",
      "text/plain": [
       "<Figure size 640x480 with 1 Axes>"
      ]
     },
     "metadata": {},
     "output_type": "display_data"
    }
   ],
   "source": [
    "pltreg(df['Years'],df['price'])"
   ]
  },
  {
   "cell_type": "markdown",
   "id": "b5f50a2a-1ac5-4853-a592-b6ff6b48be66",
   "metadata": {},
   "source": [
    "دقت رگرسیون را بدست می اوریم"
   ]
  },
  {
   "cell_type": "code",
   "execution_count": 195,
   "id": "20e6a6ca-f621-41ef-8095-2a8659240957",
   "metadata": {},
   "outputs": [
    {
     "data": {
      "text/plain": [
       "0.9999653378861689"
      ]
     },
     "execution_count": 195,
     "metadata": {},
     "output_type": "execute_result"
    }
   ],
   "source": [
    "score(df['Years'],df['price'])"
   ]
  }
 ],
 "metadata": {
  "kernelspec": {
   "display_name": "Python 3 (ipykernel)",
   "language": "python",
   "name": "python3"
  },
  "language_info": {
   "codemirror_mode": {
    "name": "ipython",
    "version": 3
   },
   "file_extension": ".py",
   "mimetype": "text/x-python",
   "name": "python",
   "nbconvert_exporter": "python",
   "pygments_lexer": "ipython3",
   "version": "3.8.0"
  }
 },
 "nbformat": 4,
 "nbformat_minor": 5
}
